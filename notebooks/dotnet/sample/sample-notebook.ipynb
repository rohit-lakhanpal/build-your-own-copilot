{
 "cells": [
  {
   "cell_type": "markdown",
   "metadata": {},
   "source": [
    "# Sample Notebook using the latest version of the SDK (v1.0.0-beta4)"
   ]
  },
  {
   "cell_type": "markdown",
   "metadata": {},
   "source": [
    "## Step 1: Load required libraries"
   ]
  },
  {
   "cell_type": "code",
   "execution_count": 1,
   "metadata": {
    "dotnet_interactive": {
     "language": "csharp"
    },
    "polyglot_notebook": {
     "kernelName": "csharp"
    },
    "vscode": {
     "languageId": "polyglot-notebook"
    }
   },
   "outputs": [
    {
     "data": {
      "text/html": [
       "<div><div></div><div></div><div><strong>Installed Packages</strong><ul><li><span>Microsoft.SemanticKernel, 1.0.0-beta4</span></li><li><span>Microsoft.SemanticKernel.Connectors.Memory.AzureCognitiveSearch, 1.0.0-beta4</span></li><li><span>Microsoft.SemanticKernel.Plugins.Core, 1.0.0-beta4</span></li><li><span>Microsoft.SemanticKernel.Plugins.Memory, 1.0.0-beta4</span></li><li><span>Microsoft.SemanticKernel.Plugins.Web, 1.0.0-beta4</span></li></ul></div></div>"
      ]
     },
     "metadata": {},
     "output_type": "display_data"
    }
   ],
   "source": [
    "#r \"nuget: Microsoft.SemanticKernel, 1.0.0-beta4\"\n",
    "#r \"nuget: Microsoft.SemanticKernel.Plugins.Core, 1.0.0-beta4\"\n",
    "#r \"nuget: Microsoft.SemanticKernel.Plugins.Web, 1.0.0-beta4\"\n",
    "#r \"nuget: Microsoft.SemanticKernel.Plugins.Memory, 1.0.0-beta4\"\n",
    "#r \"nuget: Microsoft.SemanticKernel.Connectors.Memory.AzureCognitiveSearch, 1.0.0-beta4\""
   ]
  },
  {
   "cell_type": "code",
   "execution_count": 2,
   "metadata": {
    "dotnet_interactive": {
     "language": "csharp"
    },
    "polyglot_notebook": {
     "kernelName": "csharp"
    },
    "vscode": {
     "languageId": "polyglot-notebook"
    }
   },
   "outputs": [],
   "source": [
    "// Enable the display of HTML content in the notebook\n",
    "using static Microsoft.DotNet.Interactive.Formatting.PocketViewTags;"
   ]
  },
  {
   "cell_type": "markdown",
   "metadata": {},
   "source": [
    "## Step 2: Setup Kernel"
   ]
  },
  {
   "cell_type": "markdown",
   "metadata": {},
   "source": [
    "Import files from the `config` directory"
   ]
  },
  {
   "cell_type": "code",
   "execution_count": 3,
   "metadata": {
    "dotnet_interactive": {
     "language": "csharp"
    },
    "polyglot_notebook": {
     "kernelName": "csharp"
    },
    "vscode": {
     "languageId": "polyglot-notebook"
    }
   },
   "outputs": [],
   "source": [
    "#!import ../../../config/dotnet/StringHelpers.cs\n",
    "#!import ../../../config/dotnet/ConfigModels.cs\n",
    "#!import ../../../config/dotnet/ConfigHelper.cs\n",
    "#!import ../../../config/dotnet/KernelHelper.cs"
   ]
  },
  {
   "cell_type": "markdown",
   "metadata": {},
   "source": [
    "Display the current configuration (Optional).\n",
    "> **⚠️ Note ☠️:** This is useful to check the current configuration. But be sure to comment this out & clear the output before committing the notebook. You don't want to commit your credentials. ⚠️\n"
   ]
  },
  {
   "cell_type": "code",
   "execution_count": 4,
   "metadata": {
    "dotnet_interactive": {
     "language": "csharp"
    },
    "polyglot_notebook": {
     "kernelName": "csharp"
    },
    "vscode": {
     "languageId": "polyglot-notebook"
    }
   },
   "outputs": [],
   "source": [
    "// Note: Comment this out & clear the output before committing the notebook. \n",
    "// You don't want to commit your credentials. \n",
    "// new ConfigurationHelper().GetConfiguration().Display();"
   ]
  },
  {
   "cell_type": "markdown",
   "metadata": {},
   "source": [
    "Load the kernel"
   ]
  },
  {
   "cell_type": "code",
   "execution_count": 5,
   "metadata": {
    "dotnet_interactive": {
     "language": "csharp"
    },
    "polyglot_notebook": {
     "kernelName": "csharp"
    },
    "vscode": {
     "languageId": "polyglot-notebook"
    }
   },
   "outputs": [
    {
     "data": {
      "text/html": [
       "<details open=\"open\" class=\"dni-treeview\"><summary><span class=\"dni-code-hint\"><code>Microsoft.SemanticKernel.Kernel</code></span></summary><div><table><thead><tr></tr></thead><tbody><tr><td>LoggerFactory</td><td><details class=\"dni-treeview\"><summary><span class=\"dni-code-hint\"><code>Microsoft.Extensions.Logging.Abstractions.NullLoggerFactory</code></span></summary><div><table><thead><tr></tr></thead><tbody></tbody></table></div></details></td></tr><tr><td>Functions</td><td><details class=\"dni-treeview\"><summary><span class=\"dni-code-hint\"><code>Microsoft.SemanticKernel.FunctionCollection</code></span></summary><div><table><thead><tr></tr></thead><tbody></tbody></table></div></details></td></tr><tr><td>PromptTemplateEngine</td><td><details class=\"dni-treeview\"><summary><span class=\"dni-code-hint\"><code>Microsoft.SemanticKernel.TemplateEngine.Basic.BasicPromptTemplateEngine</code></span></summary><div><table><thead><tr></tr></thead><tbody></tbody></table></div></details></td></tr><tr><td>HttpHandlerFactory</td><td><details class=\"dni-treeview\"><summary><span class=\"dni-code-hint\"><code>Microsoft.SemanticKernel.Reliability.Basic.BasicHttpRetryHandlerFactory</code></span></summary><div><table><thead><tr></tr></thead><tbody></tbody></table></div></details></td></tr><tr><td>Memory</td><td><details class=\"dni-treeview\"><summary><span class=\"dni-code-hint\"><code>Microsoft.SemanticKernel.Memory.SemanticTextMemory</code></span></summary><div><table><thead><tr></tr></thead><tbody></tbody></table></div></details></td></tr><tr><td>Skills</td><td><details class=\"dni-treeview\"><summary><span class=\"dni-code-hint\"><code>Microsoft.SemanticKernel.FunctionCollection</code></span></summary><div><table><thead><tr></tr></thead><tbody></tbody></table></div></details></td></tr></tbody></table></div></details><style>\r\n",
       ".dni-code-hint {\r\n",
       "    font-style: italic;\r\n",
       "    overflow: hidden;\r\n",
       "    white-space: nowrap;\r\n",
       "}\r\n",
       ".dni-treeview {\r\n",
       "    white-space: nowrap;\r\n",
       "}\r\n",
       ".dni-treeview td {\r\n",
       "    vertical-align: top;\r\n",
       "    text-align: start;\r\n",
       "}\r\n",
       "details.dni-treeview {\r\n",
       "    padding-left: 1em;\r\n",
       "}\r\n",
       "table td {\r\n",
       "    text-align: start;\r\n",
       "}\r\n",
       "table tr { \r\n",
       "    vertical-align: top; \r\n",
       "    margin: 0em 0px;\r\n",
       "}\r\n",
       "table tr td pre \r\n",
       "{ \r\n",
       "    vertical-align: top !important; \r\n",
       "    margin: 0em 0px !important;\r\n",
       "} \r\n",
       "table th {\r\n",
       "    text-align: start;\r\n",
       "}\r\n",
       "</style>"
      ]
     },
     "metadata": {},
     "output_type": "display_data"
    }
   ],
   "source": [
    "var kernel = KernelHelper.LoadKernel();\n",
    "kernel.Display();"
   ]
  },
  {
   "cell_type": "markdown",
   "metadata": {},
   "source": [
    "Display all available functions (via enabled plugins)"
   ]
  },
  {
   "cell_type": "code",
   "execution_count": 6,
   "metadata": {
    "dotnet_interactive": {
     "language": "csharp"
    },
    "polyglot_notebook": {
     "kernelName": "csharp"
    },
    "vscode": {
     "languageId": "polyglot-notebook"
    }
   },
   "outputs": [
    {
     "data": {
      "text/csv": [
       "PluginName,FunctionName,Description\n",
       "bing,Search,\"Perform a web search.\"\n",
       "conversation,GetConversationActionItems,\"Given a long conversation transcript, identify action items.\"\n",
       "conversation,GetConversationTopics,\"Given a long conversation transcript, identify topics worth remembering.\"\n",
       "conversation,SummarizeConversation,\"Given a long conversation transcript, summarize the conversation.\"\n",
       "ConversationSummaryPlugin,funcb8580222f6c740f8ab590b8888ee6789,\"Analyze a conversation transcript and extract key topics worth remembering.\"\n",
       "ConversationSummaryPlugin,funcbee9dfea6f634659969322ad6b640d58,\"Given a section of a conversation transcript, summarize the part of the conversation.\"\n",
       "ConversationSummaryPlugin,funccf6d1997b53a40ab87f47a253e05fdb2,\"Given a section of a conversation transcript, identify action items.\"\n",
       "file,Read,\"Read a file\"\n",
       "file,Write,\"Write a file\"\n",
       "http,Delete,\"Makes a DELETE request to a uri\"\n",
       "http,Get,\"Makes a GET request to a uri\"\n",
       "http,Post,\"Makes a POST request to a uri\"\n",
       "http,Put,\"Makes a PUT request to a uri\"\n",
       "math,Add,\"Adds an amount to a value\"\n",
       "math,Subtract,\"Subtracts an amount from a value\"\n",
       "text,Concat,\"Concat two strings into one.\"\n",
       "text,Echo,\"Echo the input string. Useful for capturing plan input for use in multiple functions.\"\n",
       "text,Length,\"Get the length of a string.\"\n",
       "text,Lowercase,\"Convert a string to lowercase.\"\n",
       "text,Trim,\"Trim whitespace from the start and end of a string.\"\n",
       "text,TrimEnd,\"Trim whitespace from the end of a string.\"\n",
       "text,TrimStart,\"Trim whitespace from the start of a string.\"\n",
       "text,Uppercase,\"Convert a string to uppercase.\"\n",
       "time,Date,\"Get the current date\"\n",
       "time,DateMatchingLastDayName,\"Get the date of the last day matching the supplied week day name in English. Example: Che giorno era 'Martedi' scorso -> dateMatchingLastDayName 'Tuesday' => Tuesday, 16 May, 2023\"\n",
       "time,Day,\"Get the current day of the month\"\n",
       "time,DayOfWeek,\"Get the current day of the week\"\n",
       "time,DaysAgo,\"Get the date offset by a provided number of days from today\"\n",
       "time,Hour,\"Get the current clock hour\"\n",
       "time,HourNumber,\"Get the current clock 24-hour number\"\n",
       "time,Minute,\"Get the minutes on the current hour\"\n",
       "time,Month,\"Get the current month name\"\n",
       "time,MonthNumber,\"Get the current month number\"\n",
       "time,Now,\"Get the current date and time in the local time zone\"\n",
       "time,Second,\"Get the seconds on the current minute\"\n",
       "time,Time,\"Get the current time\"\n",
       "time,TimeZoneName,\"Get the local time zone name\"\n",
       "time,TimeZoneOffset,\"Get the local time zone offset from UTC\"\n",
       "time,Today,\"Get the current date\"\n",
       "time,UtcNow,\"Get the current UTC date and time\"\n",
       "time,Year,\"Get the current year\"\n",
       "url,AmazonSearchUrl,\"Return URL for Amazon search query\"\n",
       "url,BingImagesSearchUrl,\"Return URL for Bing Images search query.\"\n",
       "url,BingMapsSearchUrl,\"Return URL for Bing Maps search query.\"\n",
       "url,BingNewsSearchUrl,\"Return URL for Bing News search query.\"\n",
       "url,BingSearchUrl,\"Return URL for Bing search query.\"\n",
       "url,BingShoppingSearchUrl,\"Return URL for Bing Shopping search query.\"\n",
       "url,BingTravelSearchUrl,\"Return URL for Bing Travel search query.\"\n",
       "url,FacebookSearchUrl,\"Return URL for Facebook search query.\"\n",
       "url,GitHubSearchUrl,\"Return URL for GitHub search query.\"\n",
       "url,LinkedInSearchUrl,\"Return URL for LinkedIn search query.\"\n",
       "url,TwitterSearchUrl,\"Return URL for Twitter search query.\"\n",
       "url,WikipediaSearchUrl,\"Return URL for Wikipedia search query.\"\n",
       "wait,Seconds,\"Wait a given amount of seconds\"\n",
       "web,DownloadToFile,\"Downloads a file to local storage\"\n"
      ],
      "text/html": [
       "<table><thead><tr><td><span>PluginName</span></td><td><span>FunctionName</span></td><td><span>Description</span></td></tr></thead><tbody><tr><td>bing</td><td>Search</td><td>Perform a web search.</td></tr><tr><td>conversation</td><td>GetConversationActionItems</td><td>Given a long conversation transcript, identify action items.</td></tr><tr><td>conversation</td><td>GetConversationTopics</td><td>Given a long conversation transcript, identify topics worth remembering.</td></tr><tr><td>conversation</td><td>SummarizeConversation</td><td>Given a long conversation transcript, summarize the conversation.</td></tr><tr><td>ConversationSummaryPlugin</td><td>funcb8580222f6c740f8ab590b8888ee6789</td><td>Analyze a conversation transcript and extract key topics worth remembering.</td></tr><tr><td>ConversationSummaryPlugin</td><td>funcbee9dfea6f634659969322ad6b640d58</td><td>Given a section of a conversation transcript, summarize the part of the conversation.</td></tr><tr><td>ConversationSummaryPlugin</td><td>funccf6d1997b53a40ab87f47a253e05fdb2</td><td>Given a section of a conversation transcript, identify action items.</td></tr><tr><td>file</td><td>Read</td><td>Read a file</td></tr><tr><td>file</td><td>Write</td><td>Write a file</td></tr><tr><td>http</td><td>Delete</td><td>Makes a DELETE request to a uri</td></tr><tr><td>http</td><td>Get</td><td>Makes a GET request to a uri</td></tr><tr><td>http</td><td>Post</td><td>Makes a POST request to a uri</td></tr><tr><td>http</td><td>Put</td><td>Makes a PUT request to a uri</td></tr><tr><td>math</td><td>Add</td><td>Adds an amount to a value</td></tr><tr><td>math</td><td>Subtract</td><td>Subtracts an amount from a value</td></tr><tr><td>text</td><td>Concat</td><td>Concat two strings into one.</td></tr><tr><td>text</td><td>Echo</td><td>Echo the input string. Useful for capturing plan input for use in multiple functions.</td></tr><tr><td>text</td><td>Length</td><td>Get the length of a string.</td></tr><tr><td>text</td><td>Lowercase</td><td>Convert a string to lowercase.</td></tr><tr><td>text</td><td>Trim</td><td>Trim whitespace from the start and end of a string.</td></tr><tr><td>text</td><td>TrimEnd</td><td>Trim whitespace from the end of a string.</td></tr><tr><td>text</td><td>TrimStart</td><td>Trim whitespace from the start of a string.</td></tr><tr><td>text</td><td>Uppercase</td><td>Convert a string to uppercase.</td></tr><tr><td>time</td><td>Date</td><td>Get the current date</td></tr><tr><td>time</td><td>DateMatchingLastDayName</td><td>Get the date of the last day matching the supplied week day name in English. Example: Che giorno era &#39;Martedi&#39; scorso -&gt; dateMatchingLastDayName &#39;Tuesday&#39; =&gt; Tuesday, 16 May, 2023</td></tr><tr><td>time</td><td>Day</td><td>Get the current day of the month</td></tr><tr><td>time</td><td>DayOfWeek</td><td>Get the current day of the week</td></tr><tr><td>time</td><td>DaysAgo</td><td>Get the date offset by a provided number of days from today</td></tr><tr><td>time</td><td>Hour</td><td>Get the current clock hour</td></tr><tr><td>time</td><td>HourNumber</td><td>Get the current clock 24-hour number</td></tr><tr><td>time</td><td>Minute</td><td>Get the minutes on the current hour</td></tr><tr><td>time</td><td>Month</td><td>Get the current month name</td></tr><tr><td>time</td><td>MonthNumber</td><td>Get the current month number</td></tr><tr><td>time</td><td>Now</td><td>Get the current date and time in the local time zone</td></tr><tr><td>time</td><td>Second</td><td>Get the seconds on the current minute</td></tr><tr><td>time</td><td>Time</td><td>Get the current time</td></tr><tr><td>time</td><td>TimeZoneName</td><td>Get the local time zone name</td></tr><tr><td>time</td><td>TimeZoneOffset</td><td>Get the local time zone offset from UTC</td></tr><tr><td>time</td><td>Today</td><td>Get the current date</td></tr><tr><td>time</td><td>UtcNow</td><td>Get the current UTC date and time</td></tr><tr><td>time</td><td>Year</td><td>Get the current year</td></tr><tr><td>url</td><td>AmazonSearchUrl</td><td>Return URL for Amazon search query</td></tr><tr><td>url</td><td>BingImagesSearchUrl</td><td>Return URL for Bing Images search query.</td></tr><tr><td>url</td><td>BingMapsSearchUrl</td><td>Return URL for Bing Maps search query.</td></tr><tr><td>url</td><td>BingNewsSearchUrl</td><td>Return URL for Bing News search query.</td></tr><tr><td>url</td><td>BingSearchUrl</td><td>Return URL for Bing search query.</td></tr><tr><td>url</td><td>BingShoppingSearchUrl</td><td>Return URL for Bing Shopping search query.</td></tr><tr><td>url</td><td>BingTravelSearchUrl</td><td>Return URL for Bing Travel search query.</td></tr><tr><td>url</td><td>FacebookSearchUrl</td><td>Return URL for Facebook search query.</td></tr><tr><td>url</td><td>GitHubSearchUrl</td><td>Return URL for GitHub search query.</td></tr><tr><td>url</td><td>LinkedInSearchUrl</td><td>Return URL for LinkedIn search query.</td></tr><tr><td>url</td><td>TwitterSearchUrl</td><td>Return URL for Twitter search query.</td></tr><tr><td>url</td><td>WikipediaSearchUrl</td><td>Return URL for Wikipedia search query.</td></tr><tr><td>wait</td><td>Seconds</td><td>Wait a given amount of seconds</td></tr><tr><td>web</td><td>DownloadToFile</td><td>Downloads a file to local storage</td></tr></tbody></table><style>\r\n",
       ".dni-code-hint {\r\n",
       "    font-style: italic;\r\n",
       "    overflow: hidden;\r\n",
       "    white-space: nowrap;\r\n",
       "}\r\n",
       ".dni-treeview {\r\n",
       "    white-space: nowrap;\r\n",
       "}\r\n",
       ".dni-treeview td {\r\n",
       "    vertical-align: top;\r\n",
       "    text-align: start;\r\n",
       "}\r\n",
       "details.dni-treeview {\r\n",
       "    padding-left: 1em;\r\n",
       "}\r\n",
       "table td {\r\n",
       "    text-align: start;\r\n",
       "}\r\n",
       "table tr { \r\n",
       "    vertical-align: top; \r\n",
       "    margin: 0em 0px;\r\n",
       "}\r\n",
       "table tr td pre \r\n",
       "{ \r\n",
       "    vertical-align: top !important; \r\n",
       "    margin: 0em 0px !important;\r\n",
       "} \r\n",
       "table th {\r\n",
       "    text-align: start;\r\n",
       "}\r\n",
       "</style>"
      ]
     },
     "metadata": {},
     "output_type": "display_data"
    }
   ],
   "source": [
    "Microsoft.DotNet.Interactive.Formatting.Formatter.ListExpansionLimit = 100;\n",
    "kernel.Functions.GetFunctionViews()\n",
    "    .Select(fv => new { fv.PluginName, FunctionName=fv.Name, fv.Description })  \n",
    "    .OrderBy(fv => fv.PluginName)\n",
    "    .ThenBy(fv => fv.FunctionName)      \n",
    "    .DisplayTable<dynamic>();"
   ]
  },
  {
   "cell_type": "markdown",
   "metadata": {},
   "source": [
    "## Step 3: Test Completions by creating a simple inline function"
   ]
  },
  {
   "cell_type": "code",
   "execution_count": 7,
   "metadata": {
    "dotnet_interactive": {
     "language": "csharp"
    },
    "polyglot_notebook": {
     "kernelName": "csharp"
    },
    "vscode": {
     "languageId": "polyglot-notebook"
    }
   },
   "outputs": [
    {
     "data": {
      "text/html": [
       "<p style=\"color:#a0d2eb;background-color:#8458B3;padding:10px;border-radius:5px;\">The sky appears blue because of a process called Rayleigh scattering. As sunlight reaches Earth&#39;s atmosphere, it is made up of different colors, which are seen as different wavelengths. Shorter wavelengths (like blue and violet) are scattered in all directions more than other colors like red, yellow, and green, which have longer wavelengths.</p>"
      ]
     },
     "metadata": {},
     "output_type": "display_data"
    },
    {
     "data": {
      "text/html": [
       "<p style=\"color:#a0d2eb;background-color:#8458B3;padding:10px;border-radius:5px;\">The color of the ocean can range from deep blue to green, depending on various factors. The primary reason for the ocean appearing green is the presence of algae and other plant life. When sunlight penetrates the ocean surface, it can cause photosynthesis in these plants, leading to a bloom of algae and phytoplankton, which can give the ocean a greenish hue.</p>"
      ]
     },
     "metadata": {},
     "output_type": "display_data"
    }
   ],
   "source": [
    "using Microsoft.SemanticKernel.Connectors.AI.OpenAI;\n",
    "using  Microsoft.DotNet.Interactive.Formatting;\n",
    "// 1. define the function called \"ask\"\n",
    "var askFunction = kernel.CreateSemanticFunction(\n",
    "    promptTemplate: \"{{$input}}\", \n",
    "    requestSettings: new OpenAIRequestSettings() { \n",
    "        // The maximum number of tokens to generate in the completion.\n",
    "        MaxTokens = 100,    \n",
    "        // Temperature controls the randomness of the completion. The higher the temperature, the more random the completion.\n",
    "        Temperature = 0.5,  \n",
    "        // TopP controls the diversity of the completion. The higher the TopP, the more diverse the completion.\n",
    "        TopP = 0.5,           \n",
    "        // One or more sequences where the API will stop generating further tokens.\n",
    "        StopSequences = new string[] { \"\\n\" }, \n",
    "        // Here I have specified the service id. \n",
    "        // Comment this out if you would like to use the default service id.\n",
    "        // ServiceId = \"oai-gpt-4-0613\" \n",
    "    },\n",
    "    functionName: \"ask\");\n",
    "\n",
    "// 2. call the function directly using the function object\n",
    "KernelHelper.Print(await kernel\n",
    "    .RunAsync(@\"Why is the sky blue?\", askFunction));\n",
    "\n",
    "// ALTERNATIVELY\n",
    "// 2. call the function by name using the kernel.\n",
    "KernelHelper.Print(await kernel\n",
    "    .Functions.GetFunction(\"ask\").InvokeAsync(@\"why is the ocean green?\", kernel));"
   ]
  },
  {
   "cell_type": "markdown",
   "metadata": {},
   "source": [
    "## Step 4: Test Core Plugins"
   ]
  },
  {
   "cell_type": "markdown",
   "metadata": {},
   "source": [
    "4.1: Text plugin"
   ]
  },
  {
   "cell_type": "code",
   "execution_count": 8,
   "metadata": {
    "dotnet_interactive": {
     "language": "csharp"
    },
    "polyglot_notebook": {
     "kernelName": "csharp"
    },
    "vscode": {
     "languageId": "polyglot-notebook"
    }
   },
   "outputs": [
    {
     "data": {
      "text/html": [
       "<div style=\"color:#a0d2eb;background-color:#8458B3;padding:10px;border-radius:5px;font-family: monospace;\"><span style=\"white-space:pre;color:black!important;background-color:#a0d2eb!important\">hello world</span></div>"
      ]
     },
     "metadata": {},
     "output_type": "display_data"
    },
    {
     "data": {
      "text/html": [
       "<div style=\"color:#a0d2eb;background-color:#8458B3;padding:10px;border-radius:5px;font-family: monospace;\"><span style=\"white-space:pre;color:black!important;background-color:#a0d2eb!important\">hello world  </span></div>"
      ]
     },
     "metadata": {},
     "output_type": "display_data"
    },
    {
     "data": {
      "text/html": [
       "<div style=\"color:#a0d2eb;background-color:#8458B3;padding:10px;border-radius:5px;font-family: monospace;\"><span style=\"white-space:pre;color:black!important;background-color:#a0d2eb!important\">  hello world</span></div>"
      ]
     },
     "metadata": {},
     "output_type": "display_data"
    }
   ],
   "source": [
    "// Trim\n",
    "KernelHelper.Print(await kernel\n",
    "    .Functions\n",
    "    .GetFunction(\"text\", \"trim\")\n",
    "    .InvokeAsync(\"  hello world  \", kernel)\n",
    ", PrintElement.Pre);\n",
    "\n",
    "// Trim Start\n",
    "KernelHelper.Print(await kernel\n",
    "    .Functions\n",
    "    .GetFunction(\"text\", \"trimStart\")\n",
    "    .InvokeAsync(\"  hello world  \", kernel)\n",
    ", PrintElement.Pre);\n",
    "\n",
    "// Trim End\n",
    "KernelHelper.Print(await kernel\n",
    "    .Functions\n",
    "    .GetFunction(\"text\", \"trimEnd\")\n",
    "    .InvokeAsync(\"  hello world  \", kernel)\n",
    ", PrintElement.Pre);"
   ]
  },
  {
   "cell_type": "markdown",
   "metadata": {},
   "source": [
    "4.1: This is a continuation of the previous step. Here we see how to \"chain\" plugins together. We call the \"ask\" plugin & pass the output to the \"text\" plugin where we can see the output in uppercase."
   ]
  },
  {
   "cell_type": "code",
   "execution_count": 9,
   "metadata": {
    "dotnet_interactive": {
     "language": "csharp"
    },
    "polyglot_notebook": {
     "kernelName": "csharp"
    },
    "vscode": {
     "languageId": "polyglot-notebook"
    }
   },
   "outputs": [
    {
     "data": {
      "text/html": [
       "<p style=\"color:#a0d2eb;background-color:#8458B3;padding:10px;border-radius:5px;\">WHY DON&#39;T SCIENTISTS TRUST ATOMS? BECAUSE THEY MAKE UP EVERYTHING!</p>"
      ]
     },
     "metadata": {},
     "output_type": "display_data"
    }
   ],
   "source": [
    "// Here we demonstrate chaining functions together\n",
    "// First we ask the question using the ask function (which we wrote earlier),\n",
    "// then we uppercase the response using the text.uppercase function (part of the core plugins).\n",
    "KernelHelper.Print(await kernel.RunAsync(\n",
    "    @\"Tell me 1 sentence joke.\",\n",
    "    kernel.Functions.GetFunction(\"ask\"),\n",
    "    kernel.Functions.GetFunction(\"text\", \"uppercase\")));"
   ]
  },
  {
   "cell_type": "markdown",
   "metadata": {},
   "source": [
    "## Step 5: Test Web Plugins"
   ]
  },
  {
   "cell_type": "code",
   "execution_count": 10,
   "metadata": {
    "dotnet_interactive": {
     "language": "csharp"
    },
    "polyglot_notebook": {
     "kernelName": "csharp"
    },
    "vscode": {
     "languageId": "polyglot-notebook"
    }
   },
   "outputs": [
    {
     "data": {
      "text/html": [
       "<p style=\"color:#a0d2eb;background-color:#8458B3;padding:10px;border-radius:5px;\">The content discusses the annual inflation rates in Australia from 1950, with a focus on recent data up to September 2023. The Consumer Price Index (CPI) in Australia rose by 1.2% in the third quarter of 2023. This inflation rebound was driven by surging fuel prices and has implications for Australians with mortgages. The economy has shown resilience despite a significant increase in interest rates, marking the second steepest monetary policy tightening cycle in the bank&#39;s history. However, it&#39;s noted that consumers are cutting back in response. There&#39;s also a prediction that interest rates are likely to rise further. The highest inflation rate month-over-month (MoM) in Australia was 7.55% in the fourth quarter of 1951, and the lowest was -1.90% in the second quarter of 2020.</p>"
      ]
     },
     "metadata": {},
     "output_type": "display_data"
    }
   ],
   "source": [
    "// Here we use the bing plugin (part of the web plugins) to search the web for the query \"What is the inflation rate in the US in November 2023?\"\n",
    "// In addition we use funcion chaining to summarize the conversation. (part of the core plugins).\n",
    "KernelHelper.Print(await kernel.RunAsync(\n",
    "    @\"What is the inflation rate in the Australia in November 2023?\",\n",
    "    kernel.Functions.GetFunction(\"bing\", \"search\"),\n",
    "    kernel.Functions.GetFunction(\"conversation\", \"SummarizeConversation\")));"
   ]
  },
  {
   "cell_type": "markdown",
   "metadata": {},
   "source": [
    "## Step 6: Test Memories"
   ]
  },
  {
   "cell_type": "code",
   "execution_count": 12,
   "metadata": {
    "dotnet_interactive": {
     "language": "csharp"
    },
    "polyglot_notebook": {
     "kernelName": "csharp"
    },
    "vscode": {
     "languageId": "polyglot-notebook"
    }
   },
   "outputs": [
    {
     "data": {
      "text/html": [
       "<pre>Saved 3 items to the random-animals collection.</pre>"
      ]
     },
     "metadata": {},
     "output_type": "display_data"
    },
    {
     "data": {
      "text/html": [
       "<p style=\"color:#a0d2eb;background-color:#8458B3;padding:10px;border-radius:5px;\">Has tentacles? - Octopus</p>"
      ]
     },
     "metadata": {},
     "output_type": "display_data"
    },
    {
     "data": {
      "text/html": [
       "<pre>Deleted 3 items from the random-animals collection.</pre>"
      ]
     },
     "metadata": {},
     "output_type": "display_data"
    }
   ],
   "source": [
    "var db = \"random-animals\";\n",
    "var ids = new List<string>();\n",
    "\n",
    "// Save some information to the database\n",
    "ids.Add(await KernelHelper.SaveChunkAsync(\n",
    "    kernel: kernel, db: db, text: \"Dog\"));\n",
    "ids.Add(await KernelHelper.SaveChunkAsync(\n",
    "    kernel: kernel, db: db, text: \"Elephant\"));\n",
    "ids.Add(await KernelHelper.SaveChunkAsync(\n",
    "    kernel: kernel, db: db, text: \"Octopus\"));\n",
    "KernelHelper.Info($\"Saved {ids.Count} items to the {db} collection.\");\n",
    "\n",
    "// Search the database\n",
    "var query = @\"Has tentacles?\";\n",
    "var rs = await KernelHelper.SearchDatabaseAsync(\n",
    "    kernel: kernel, \n",
    "    db: db, \n",
    "    q: query, \n",
    "    limit: 1, \n",
    "    minRelevanceScore: 0.5\n",
    ");\n",
    "KernelHelper.Print($\"{query} - {rs.FirstOrDefault()?.Text}\");\n",
    "\n",
    "// Cleanup the database\n",
    "var cleanup = await KernelHelper.DeleteChunkAsync(\n",
    "    kernel: kernel, \n",
    "    db: db, \n",
    "    ids: ids);\n",
    "KernelHelper.Info($\"Deleted {cleanup.Count} items from the {db} collection.\");"
   ]
  },
  {
   "cell_type": "markdown",
   "metadata": {},
   "source": [
    "Alternatively, chunk and store a whole book!"
   ]
  },
  {
   "cell_type": "code",
   "execution_count": 13,
   "metadata": {
    "dotnet_interactive": {
     "language": "csharp"
    },
    "polyglot_notebook": {
     "kernelName": "csharp"
    },
    "vscode": {
     "languageId": "polyglot-notebook"
    }
   },
   "outputs": [
    {
     "name": "stdout",
     "output_type": "stream",
     "text": [
      "- Saved chunk 0.\n",
      "- Saved chunk 1.\n",
      "- Saved chunk 2.\n",
      "- Saved chunk 3.\n",
      "- Saved chunk 4.\n",
      "- Saved chunk 5.\n",
      "- Saved chunk 6.\n",
      "- Saved chunk 7.\n",
      "- Saved chunk 8.\n",
      "- Saved chunk 9.\n",
      "- Saved chunk 10.\n",
      "- Saved chunk 11.\n",
      "- Saved chunk 12.\n",
      "- Saved chunk 13.\n",
      "- Saved chunk 14.\n",
      "- Saved chunk 15.\n",
      "- Saved chunk 16.\n",
      "- Saved chunk 17.\n",
      "- Saved chunk 18.\n",
      "- Saved chunk 19.\n",
      "- Saved chunk 20.\n",
      "- Saved chunk 21.\n",
      "- Saved chunk 22.\n",
      "- Saved chunk 23.\n",
      "- Saved chunk 24.\n",
      "- Saved chunk 25.\n",
      "- Saved chunk 26.\n",
      "- Saved chunk 27.\n",
      "- Saved chunk 28.\n",
      "- Saved chunk 29.\n",
      "- Saved chunk 30.\n",
      "- Saved chunk 31.\n",
      "- Saved chunk 32.\n",
      "- Saved chunk 33.\n",
      "- Saved chunk 34.\n",
      "- Saved chunk 35.\n",
      "- Saved chunk 36.\n",
      "- Saved chunk 37.\n",
      "- Saved chunk 38.\n",
      "- Saved chunk 39.\n",
      "- Saved chunk 40.\n",
      "- Saved chunk 41.\n",
      "- Saved chunk 42.\n",
      "- Saved chunk 43.\n",
      "- Saved chunk 44.\n",
      "- Saved chunk 45.\n"
     ]
    },
    {
     "data": {
      "text/html": [
       "<pre>Saved 46 items to the intelligent-investor collection.</pre>"
      ]
     },
     "metadata": {},
     "output_type": "display_data"
    }
   ],
   "source": [
    "// Read file & convert it into smaller chunks\n",
    "var db = \"intelligent-investor\";\n",
    "var ids = await KernelHelper.SaveFileAsync(\n",
    "    kernel: kernel, \n",
    "    db: db, \n",
    "    path: \"../../../data/intelligent-investor.txt\");\n",
    "KernelHelper.Info($\"Saved {ids.Count} items to the {db} collection.\");"
   ]
  },
  {
   "cell_type": "code",
   "execution_count": 14,
   "metadata": {
    "dotnet_interactive": {
     "language": "csharp"
    },
    "polyglot_notebook": {
     "kernelName": "csharp"
    },
    "vscode": {
     "languageId": "polyglot-notebook"
    }
   },
   "outputs": [
    {
     "data": {
      "text/html": [
       "<p style=\"color:#a0d2eb;background-color:#8458B3;padding:10px;border-radius:5px;;font-weight:bolder;text-decoration:underline;\">Ben Graham&#39;s investment philosophy?</p>"
      ]
     },
     "metadata": {},
     "output_type": "display_data"
    },
    {
     "data": {
      "text/html": [
       "<p style=\"color:#a0d2eb;background-color:#8458B3;padding:10px;border-radius:5px;\">Ben Graham&#39;s investment philosophy emphasizes the dangers of projection due to the uncertainty of the future, including factors like inflation, economic recessions, pandemics, and geopolitical upheavals. He believes that trying to time the market is a futile effort for an ordinary investor. Instead, Graham advocates for a protection-based approach that doesn&#39;t attempt to time the market. He suggests that value investors should focus on identifying and investing in large, conservatively financed companies whose present value, estimated by tangible assets, is significantly lower than their current stock prices. His book, &quot;The Intelligent Investor,&quot; provides guidance on developing the mindset necessary to avoid panic during market fluctuations. Graham also differentiates between two types of investors: defensive investors, who aim to protect their capital, generate decent returns, and minimize frequent decisions, and enterprising investors, who actively manage their portfolios, investing more time in stock selection without necessarily taking on more risk.</p>"
      ]
     },
     "metadata": {},
     "output_type": "display_data"
    }
   ],
   "source": [
    "// Search the database\n",
    "var query = @\"Ben Graham's investment philosophy?\";\n",
    "KernelHelper.Print(query, PrintElement.Header);\n",
    "var rs = await KernelHelper.SearchDatabaseAsync(\n",
    "    kernel: kernel, \n",
    "    db: db, \n",
    "    q: query, \n",
    "    limit: 2, \n",
    "    minRelevanceScore: 0.5\n",
    ");\n",
    "rs.ForEach(r => query += $\"\\n\\n{r.Text}\");\n",
    "//KernelHelper.Print($\"{query} \\n {rs.FirstOrDefault()?.Text}\");\n",
    "KernelHelper.Print(await kernel.RunAsync(\n",
    "    query,\n",
    "    kernel.Functions.GetFunction(\"conversation\", \"SummarizeConversation\")));"
   ]
  },
  {
   "cell_type": "code",
   "execution_count": 15,
   "metadata": {
    "dotnet_interactive": {
     "language": "csharp"
    },
    "polyglot_notebook": {
     "kernelName": "csharp"
    },
    "vscode": {
     "languageId": "polyglot-notebook"
    }
   },
   "outputs": [
    {
     "data": {
      "text/html": [
       "<pre>Deleted 46 items from the intelligent-investor collection.</pre>"
      ]
     },
     "metadata": {},
     "output_type": "display_data"
    }
   ],
   "source": [
    "// Cleanup the database\n",
    "var cleanup = await KernelHelper.DeleteChunkAsync(\n",
    "    kernel: kernel, \n",
    "    db: db, \n",
    "    ids: ids);\n",
    "KernelHelper.Info($\"Deleted {cleanup.Count} items from the {db} collection.\");"
   ]
  }
 ],
 "metadata": {
  "language_info": {
   "name": "python"
  }
 },
 "nbformat": 4,
 "nbformat_minor": 2
}
