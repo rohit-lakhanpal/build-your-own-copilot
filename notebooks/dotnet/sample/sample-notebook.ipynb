{
 "cells": [
  {
   "cell_type": "markdown",
   "metadata": {},
   "source": [
    "# Sample Notebook using the latest version of the SDK (v1.0.0-beta4)"
   ]
  },
  {
   "cell_type": "markdown",
   "metadata": {},
   "source": [
    "## Step 1: Load required libraries"
   ]
  },
  {
   "cell_type": "code",
   "execution_count": 7,
   "metadata": {
    "dotnet_interactive": {
     "language": "csharp"
    },
    "polyglot_notebook": {
     "kernelName": "csharp"
    },
    "vscode": {
     "languageId": "polyglot-notebook"
    }
   },
   "outputs": [
    {
     "data": {
      "text/html": [
       "<div><div></div><div></div><div><strong>Installed Packages</strong><ul><li><span>Microsoft.SemanticKernel, 1.0.0-beta4</span></li><li><span>Microsoft.SemanticKernel.Connectors.Memory.AzureCognitiveSearch, 1.0.0-beta4</span></li><li><span>Microsoft.SemanticKernel.Plugins.Core, 1.0.0-beta4</span></li><li><span>Microsoft.SemanticKernel.Plugins.Memory, 1.0.0-beta4</span></li><li><span>Microsoft.SemanticKernel.Plugins.Web, 1.0.0-beta4</span></li></ul></div></div>"
      ]
     },
     "metadata": {},
     "output_type": "display_data"
    }
   ],
   "source": [
    "#r \"nuget: Microsoft.SemanticKernel, 1.0.0-beta4\"\n",
    "#r \"nuget: Microsoft.SemanticKernel.Plugins.Core, 1.0.0-beta4\"\n",
    "#r \"nuget: Microsoft.SemanticKernel.Plugins.Web, 1.0.0-beta4\"\n",
    "#r \"nuget: Microsoft.SemanticKernel.Plugins.Memory, 1.0.0-beta4\"\n",
    "#r \"nuget: Microsoft.SemanticKernel.Connectors.Memory.AzureCognitiveSearch, 1.0.0-beta4\"\n"
   ]
  },
  {
   "cell_type": "markdown",
   "metadata": {},
   "source": [
    "## Step 2: Setup Kernel"
   ]
  },
  {
   "cell_type": "markdown",
   "metadata": {},
   "source": [
    "Import files from the `config` directory"
   ]
  },
  {
   "cell_type": "code",
   "execution_count": 8,
   "metadata": {
    "dotnet_interactive": {
     "language": "csharp"
    },
    "polyglot_notebook": {
     "kernelName": "csharp"
    },
    "vscode": {
     "languageId": "polyglot-notebook"
    }
   },
   "outputs": [],
   "source": [
    "#!import ../../../config/dotnet/ConfigModels.cs\n",
    "#!import ../../../config/dotnet/ConfigHelper.cs\n",
    "#!import ../../../config/dotnet/KernelHelper.cs"
   ]
  },
  {
   "cell_type": "markdown",
   "metadata": {},
   "source": [
    "Display the current configuration (Optional).\n",
    "> **⚠️ Note ☠️:** This is useful to check the current configuration. But be sure to comment this out & clear the output before committing the notebook. You don't want to commit your credentials. ⚠️"
   ]
  },
  {
   "cell_type": "code",
   "execution_count": 9,
   "metadata": {
    "dotnet_interactive": {
     "language": "csharp"
    },
    "polyglot_notebook": {
     "kernelName": "csharp"
    },
    "vscode": {
     "languageId": "polyglot-notebook"
    }
   },
   "outputs": [],
   "source": [
    "// Note: Comment this out & clear the output before committing the notebook. \n",
    "// You don't want to commit your credentials. \n",
    "// new ConfigurationHelper().GetConfiguration().Display();"
   ]
  },
  {
   "cell_type": "markdown",
   "metadata": {},
   "source": [
    "Load the kernel"
   ]
  },
  {
   "cell_type": "code",
   "execution_count": 10,
   "metadata": {
    "dotnet_interactive": {
     "language": "csharp"
    },
    "polyglot_notebook": {
     "kernelName": "csharp"
    },
    "vscode": {
     "languageId": "polyglot-notebook"
    }
   },
   "outputs": [
    {
     "data": {
      "text/html": [
       "<details open=\"open\" class=\"dni-treeview\"><summary><span class=\"dni-code-hint\"><code>Microsoft.SemanticKernel.Kernel</code></span></summary><div><table><thead><tr></tr></thead><tbody><tr><td>LoggerFactory</td><td><details class=\"dni-treeview\"><summary><span class=\"dni-code-hint\"><code>Microsoft.Extensions.Logging.Abstractions.NullLoggerFactory</code></span></summary><div><table><thead><tr></tr></thead><tbody></tbody></table></div></details></td></tr><tr><td>Functions</td><td><details class=\"dni-treeview\"><summary><span class=\"dni-code-hint\"><code>Microsoft.SemanticKernel.FunctionCollection</code></span></summary><div><table><thead><tr></tr></thead><tbody></tbody></table></div></details></td></tr><tr><td>PromptTemplateEngine</td><td><details class=\"dni-treeview\"><summary><span class=\"dni-code-hint\"><code>Microsoft.SemanticKernel.TemplateEngine.Basic.BasicPromptTemplateEngine</code></span></summary><div><table><thead><tr></tr></thead><tbody></tbody></table></div></details></td></tr><tr><td>HttpHandlerFactory</td><td><details class=\"dni-treeview\"><summary><span class=\"dni-code-hint\"><code>Microsoft.SemanticKernel.Reliability.Basic.BasicHttpRetryHandlerFactory</code></span></summary><div><table><thead><tr></tr></thead><tbody></tbody></table></div></details></td></tr><tr><td>Memory</td><td><details class=\"dni-treeview\"><summary><span class=\"dni-code-hint\"><code>Microsoft.SemanticKernel.Memory.SemanticTextMemory</code></span></summary><div><table><thead><tr></tr></thead><tbody></tbody></table></div></details></td></tr><tr><td>Skills</td><td><details class=\"dni-treeview\"><summary><span class=\"dni-code-hint\"><code>Microsoft.SemanticKernel.FunctionCollection</code></span></summary><div><table><thead><tr></tr></thead><tbody></tbody></table></div></details></td></tr></tbody></table></div></details><style>\r\n",
       ".dni-code-hint {\r\n",
       "    font-style: italic;\r\n",
       "    overflow: hidden;\r\n",
       "    white-space: nowrap;\r\n",
       "}\r\n",
       ".dni-treeview {\r\n",
       "    white-space: nowrap;\r\n",
       "}\r\n",
       ".dni-treeview td {\r\n",
       "    vertical-align: top;\r\n",
       "    text-align: start;\r\n",
       "}\r\n",
       "details.dni-treeview {\r\n",
       "    padding-left: 1em;\r\n",
       "}\r\n",
       "table td {\r\n",
       "    text-align: start;\r\n",
       "}\r\n",
       "table tr { \r\n",
       "    vertical-align: top; \r\n",
       "    margin: 0em 0px;\r\n",
       "}\r\n",
       "table tr td pre \r\n",
       "{ \r\n",
       "    vertical-align: top !important; \r\n",
       "    margin: 0em 0px !important;\r\n",
       "} \r\n",
       "table th {\r\n",
       "    text-align: start;\r\n",
       "}\r\n",
       "</style>"
      ]
     },
     "metadata": {},
     "output_type": "display_data"
    }
   ],
   "source": [
    "var kernel = KernelHelper.LoadKernel();\n",
    "kernel.Display();\n"
   ]
  },
  {
   "cell_type": "markdown",
   "metadata": {},
   "source": [
    "Display all available functions (via enabled plugins)"
   ]
  },
  {
   "cell_type": "code",
   "execution_count": 11,
   "metadata": {
    "dotnet_interactive": {
     "language": "csharp"
    },
    "polyglot_notebook": {
     "kernelName": "csharp"
    },
    "vscode": {
     "languageId": "polyglot-notebook"
    }
   },
   "outputs": [
    {
     "data": {
      "text/html": [
       "<table><thead><tr><th><i>index</i></th><th>value</th></tr></thead><tbody><tr><td>0</td><td><details class=\"dni-treeview\"><summary><span class=\"dni-code-hint\"><code>FunctionView { Name = GitHubSearchUrl, PluginName = url, Description = Return URL for GitHub search query., Parameters = Microsoft.SemanticKernel.ParameterView[] }</code></span></summary><div><table><thead><tr></tr></thead><tbody><tr><td>Name</td><td><div class=\"dni-plaintext\"><pre>GitHubSearchUrl</pre></div></td></tr><tr><td>PluginName</td><td><div class=\"dni-plaintext\"><pre>url</pre></div></td></tr><tr><td>Description</td><td><div class=\"dni-plaintext\"><pre>Return URL for GitHub search query.</pre></div></td></tr><tr><td>Parameters</td><td><table><thead><tr><th><i>index</i></th><th>value</th></tr></thead><tbody><tr><td>0</td><td><details class=\"dni-treeview\"><summary><span class=\"dni-code-hint\"><code>ParameterView { Name = query, Description = Text to search for, DefaultValue = , Type = , IsRequired = True }</code></span></summary><div><table><thead><tr></tr></thead><tbody><tr><td>Name</td><td><div class=\"dni-plaintext\"><pre>query</pre></div></td></tr><tr><td>Description</td><td><div class=\"dni-plaintext\"><pre>Text to search for</pre></div></td></tr><tr><td>DefaultValue</td><td><div class=\"dni-plaintext\"><pre></pre></div></td></tr><tr><td>Type</td><td><div class=\"dni-plaintext\"><pre>&lt;null&gt;</pre></div></td></tr><tr><td>IsRequired</td><td><div class=\"dni-plaintext\"><pre>True</pre></div></td></tr></tbody></table></div></details></td></tr></tbody></table></td></tr></tbody></table></div></details></td></tr><tr><td>1</td><td><details class=\"dni-treeview\"><summary><span class=\"dni-code-hint\"><code>FunctionView { Name = WikipediaSearchUrl, PluginName = url, Description = Return URL for Wikipedia search query., Parameters = Microsoft.SemanticKernel.ParameterView[] }</code></span></summary><div><table><thead><tr></tr></thead><tbody><tr><td>Name</td><td><div class=\"dni-plaintext\"><pre>WikipediaSearchUrl</pre></div></td></tr><tr><td>PluginName</td><td><div class=\"dni-plaintext\"><pre>url</pre></div></td></tr><tr><td>Description</td><td><div class=\"dni-plaintext\"><pre>Return URL for Wikipedia search query.</pre></div></td></tr><tr><td>Parameters</td><td><table><thead><tr><th><i>index</i></th><th>value</th></tr></thead><tbody><tr><td>0</td><td><details class=\"dni-treeview\"><summary><span class=\"dni-code-hint\"><code>ParameterView { Name = query, Description = Text to search for, DefaultValue = , Type = , IsRequired = True }</code></span></summary><div><table><thead><tr></tr></thead><tbody><tr><td>Name</td><td><div class=\"dni-plaintext\"><pre>query</pre></div></td></tr><tr><td>Description</td><td><div class=\"dni-plaintext\"><pre>Text to search for</pre></div></td></tr><tr><td>DefaultValue</td><td><div class=\"dni-plaintext\"><pre></pre></div></td></tr><tr><td>Type</td><td><div class=\"dni-plaintext\"><pre>&lt;null&gt;</pre></div></td></tr><tr><td>IsRequired</td><td><div class=\"dni-plaintext\"><pre>True</pre></div></td></tr></tbody></table></div></details></td></tr></tbody></table></td></tr></tbody></table></div></details></td></tr><tr><td>2</td><td><details class=\"dni-treeview\"><summary><span class=\"dni-code-hint\"><code>FunctionView { Name = BingShoppingSearchUrl, PluginName = url, Description = Return URL for Bing Shopping search query., Parameters = Microsoft.SemanticKernel.ParameterView[] }</code></span></summary><div><table><thead><tr></tr></thead><tbody><tr><td>Name</td><td><div class=\"dni-plaintext\"><pre>BingShoppingSearchUrl</pre></div></td></tr><tr><td>PluginName</td><td><div class=\"dni-plaintext\"><pre>url</pre></div></td></tr><tr><td>Description</td><td><div class=\"dni-plaintext\"><pre>Return URL for Bing Shopping search query.</pre></div></td></tr><tr><td>Parameters</td><td><table><thead><tr><th><i>index</i></th><th>value</th></tr></thead><tbody><tr><td>0</td><td><details class=\"dni-treeview\"><summary><span class=\"dni-code-hint\"><code>ParameterView { Name = query, Description = Text to search for, DefaultValue = , Type = , IsRequired = True }</code></span></summary><div><table><thead><tr></tr></thead><tbody><tr><td>Name</td><td><div class=\"dni-plaintext\"><pre>query</pre></div></td></tr><tr><td>Description</td><td><div class=\"dni-plaintext\"><pre>Text to search for</pre></div></td></tr><tr><td>DefaultValue</td><td><div class=\"dni-plaintext\"><pre></pre></div></td></tr><tr><td>Type</td><td><div class=\"dni-plaintext\"><pre>&lt;null&gt;</pre></div></td></tr><tr><td>IsRequired</td><td><div class=\"dni-plaintext\"><pre>True</pre></div></td></tr></tbody></table></div></details></td></tr></tbody></table></td></tr></tbody></table></div></details></td></tr><tr><td>3</td><td><details class=\"dni-treeview\"><summary><span class=\"dni-code-hint\"><code>FunctionView { Name = BingImagesSearchUrl, PluginName = url, Description = Return URL for Bing Images search query., Parameters = Microsoft.SemanticKernel.ParameterView[] }</code></span></summary><div><table><thead><tr></tr></thead><tbody><tr><td>Name</td><td><div class=\"dni-plaintext\"><pre>BingImagesSearchUrl</pre></div></td></tr><tr><td>PluginName</td><td><div class=\"dni-plaintext\"><pre>url</pre></div></td></tr><tr><td>Description</td><td><div class=\"dni-plaintext\"><pre>Return URL for Bing Images search query.</pre></div></td></tr><tr><td>Parameters</td><td><table><thead><tr><th><i>index</i></th><th>value</th></tr></thead><tbody><tr><td>0</td><td><details class=\"dni-treeview\"><summary><span class=\"dni-code-hint\"><code>ParameterView { Name = query, Description = Text to search for, DefaultValue = , Type = , IsRequired = True }</code></span></summary><div><table><thead><tr></tr></thead><tbody><tr><td>Name</td><td><div class=\"dni-plaintext\"><pre>query</pre></div></td></tr><tr><td>Description</td><td><div class=\"dni-plaintext\"><pre>Text to search for</pre></div></td></tr><tr><td>DefaultValue</td><td><div class=\"dni-plaintext\"><pre></pre></div></td></tr><tr><td>Type</td><td><div class=\"dni-plaintext\"><pre>&lt;null&gt;</pre></div></td></tr><tr><td>IsRequired</td><td><div class=\"dni-plaintext\"><pre>True</pre></div></td></tr></tbody></table></div></details></td></tr></tbody></table></td></tr></tbody></table></div></details></td></tr><tr><td>4</td><td><details class=\"dni-treeview\"><summary><span class=\"dni-code-hint\"><code>FunctionView { Name = FacebookSearchUrl, PluginName = url, Description = Return URL for Facebook search query., Parameters = Microsoft.SemanticKernel.ParameterView[] }</code></span></summary><div><table><thead><tr></tr></thead><tbody><tr><td>Name</td><td><div class=\"dni-plaintext\"><pre>FacebookSearchUrl</pre></div></td></tr><tr><td>PluginName</td><td><div class=\"dni-plaintext\"><pre>url</pre></div></td></tr><tr><td>Description</td><td><div class=\"dni-plaintext\"><pre>Return URL for Facebook search query.</pre></div></td></tr><tr><td>Parameters</td><td><table><thead><tr><th><i>index</i></th><th>value</th></tr></thead><tbody><tr><td>0</td><td><details class=\"dni-treeview\"><summary><span class=\"dni-code-hint\"><code>ParameterView { Name = query, Description = Text to search for, DefaultValue = , Type = , IsRequired = True }</code></span></summary><div><table><thead><tr></tr></thead><tbody><tr><td>Name</td><td><div class=\"dni-plaintext\"><pre>query</pre></div></td></tr><tr><td>Description</td><td><div class=\"dni-plaintext\"><pre>Text to search for</pre></div></td></tr><tr><td>DefaultValue</td><td><div class=\"dni-plaintext\"><pre></pre></div></td></tr><tr><td>Type</td><td><div class=\"dni-plaintext\"><pre>&lt;null&gt;</pre></div></td></tr><tr><td>IsRequired</td><td><div class=\"dni-plaintext\"><pre>True</pre></div></td></tr></tbody></table></div></details></td></tr></tbody></table></td></tr></tbody></table></div></details></td></tr><tr><td>5</td><td><details class=\"dni-treeview\"><summary><span class=\"dni-code-hint\"><code>FunctionView { Name = BingSearchUrl, PluginName = url, Description = Return URL for Bing search query., Parameters = Microsoft.SemanticKernel.ParameterView[] }</code></span></summary><div><table><thead><tr></tr></thead><tbody><tr><td>Name</td><td><div class=\"dni-plaintext\"><pre>BingSearchUrl</pre></div></td></tr><tr><td>PluginName</td><td><div class=\"dni-plaintext\"><pre>url</pre></div></td></tr><tr><td>Description</td><td><div class=\"dni-plaintext\"><pre>Return URL for Bing search query.</pre></div></td></tr><tr><td>Parameters</td><td><table><thead><tr><th><i>index</i></th><th>value</th></tr></thead><tbody><tr><td>0</td><td><details class=\"dni-treeview\"><summary><span class=\"dni-code-hint\"><code>ParameterView { Name = query, Description = Text to search for, DefaultValue = , Type = , IsRequired = True }</code></span></summary><div><table><thead><tr></tr></thead><tbody><tr><td>Name</td><td><div class=\"dni-plaintext\"><pre>query</pre></div></td></tr><tr><td>Description</td><td><div class=\"dni-plaintext\"><pre>Text to search for</pre></div></td></tr><tr><td>DefaultValue</td><td><div class=\"dni-plaintext\"><pre></pre></div></td></tr><tr><td>Type</td><td><div class=\"dni-plaintext\"><pre>&lt;null&gt;</pre></div></td></tr><tr><td>IsRequired</td><td><div class=\"dni-plaintext\"><pre>True</pre></div></td></tr></tbody></table></div></details></td></tr></tbody></table></td></tr></tbody></table></div></details></td></tr><tr><td>6</td><td><details class=\"dni-treeview\"><summary><span class=\"dni-code-hint\"><code>FunctionView { Name = BingNewsSearchUrl, PluginName = url, Description = Return URL for Bing News search query., Parameters = Microsoft.SemanticKernel.ParameterView[] }</code></span></summary><div><table><thead><tr></tr></thead><tbody><tr><td>Name</td><td><div class=\"dni-plaintext\"><pre>BingNewsSearchUrl</pre></div></td></tr><tr><td>PluginName</td><td><div class=\"dni-plaintext\"><pre>url</pre></div></td></tr><tr><td>Description</td><td><div class=\"dni-plaintext\"><pre>Return URL for Bing News search query.</pre></div></td></tr><tr><td>Parameters</td><td><table><thead><tr><th><i>index</i></th><th>value</th></tr></thead><tbody><tr><td>0</td><td><details class=\"dni-treeview\"><summary><span class=\"dni-code-hint\"><code>ParameterView { Name = query, Description = Text to search for, DefaultValue = , Type = , IsRequired = True }</code></span></summary><div><table><thead><tr></tr></thead><tbody><tr><td>Name</td><td><div class=\"dni-plaintext\"><pre>query</pre></div></td></tr><tr><td>Description</td><td><div class=\"dni-plaintext\"><pre>Text to search for</pre></div></td></tr><tr><td>DefaultValue</td><td><div class=\"dni-plaintext\"><pre></pre></div></td></tr><tr><td>Type</td><td><div class=\"dni-plaintext\"><pre>&lt;null&gt;</pre></div></td></tr><tr><td>IsRequired</td><td><div class=\"dni-plaintext\"><pre>True</pre></div></td></tr></tbody></table></div></details></td></tr></tbody></table></td></tr></tbody></table></div></details></td></tr><tr><td>7</td><td><details class=\"dni-treeview\"><summary><span class=\"dni-code-hint\"><code>FunctionView { Name = LinkedInSearchUrl, PluginName = url, Description = Return URL for LinkedIn search query., Parameters = Microsoft.SemanticKernel.ParameterView[] }</code></span></summary><div><table><thead><tr></tr></thead><tbody><tr><td>Name</td><td><div class=\"dni-plaintext\"><pre>LinkedInSearchUrl</pre></div></td></tr><tr><td>PluginName</td><td><div class=\"dni-plaintext\"><pre>url</pre></div></td></tr><tr><td>Description</td><td><div class=\"dni-plaintext\"><pre>Return URL for LinkedIn search query.</pre></div></td></tr><tr><td>Parameters</td><td><table><thead><tr><th><i>index</i></th><th>value</th></tr></thead><tbody><tr><td>0</td><td><details class=\"dni-treeview\"><summary><span class=\"dni-code-hint\"><code>ParameterView { Name = query, Description = Text to search for, DefaultValue = , Type = , IsRequired = True }</code></span></summary><div><table><thead><tr></tr></thead><tbody><tr><td>Name</td><td><div class=\"dni-plaintext\"><pre>query</pre></div></td></tr><tr><td>Description</td><td><div class=\"dni-plaintext\"><pre>Text to search for</pre></div></td></tr><tr><td>DefaultValue</td><td><div class=\"dni-plaintext\"><pre></pre></div></td></tr><tr><td>Type</td><td><div class=\"dni-plaintext\"><pre>&lt;null&gt;</pre></div></td></tr><tr><td>IsRequired</td><td><div class=\"dni-plaintext\"><pre>True</pre></div></td></tr></tbody></table></div></details></td></tr></tbody></table></td></tr></tbody></table></div></details></td></tr><tr><td>8</td><td><details class=\"dni-treeview\"><summary><span class=\"dni-code-hint\"><code>FunctionView { Name = AmazonSearchUrl, PluginName = url, Description = Return URL for Amazon search query, Parameters = Microsoft.SemanticKernel.ParameterView[] }</code></span></summary><div><table><thead><tr></tr></thead><tbody><tr><td>Name</td><td><div class=\"dni-plaintext\"><pre>AmazonSearchUrl</pre></div></td></tr><tr><td>PluginName</td><td><div class=\"dni-plaintext\"><pre>url</pre></div></td></tr><tr><td>Description</td><td><div class=\"dni-plaintext\"><pre>Return URL for Amazon search query</pre></div></td></tr><tr><td>Parameters</td><td><table><thead><tr><th><i>index</i></th><th>value</th></tr></thead><tbody><tr><td>0</td><td><details class=\"dni-treeview\"><summary><span class=\"dni-code-hint\"><code>ParameterView { Name = query, Description = Text to search for, DefaultValue = , Type = , IsRequired = True }</code></span></summary><div><table><thead><tr></tr></thead><tbody><tr><td>Name</td><td><div class=\"dni-plaintext\"><pre>query</pre></div></td></tr><tr><td>Description</td><td><div class=\"dni-plaintext\"><pre>Text to search for</pre></div></td></tr><tr><td>DefaultValue</td><td><div class=\"dni-plaintext\"><pre></pre></div></td></tr><tr><td>Type</td><td><div class=\"dni-plaintext\"><pre>&lt;null&gt;</pre></div></td></tr><tr><td>IsRequired</td><td><div class=\"dni-plaintext\"><pre>True</pre></div></td></tr></tbody></table></div></details></td></tr></tbody></table></td></tr></tbody></table></div></details></td></tr><tr><td>9</td><td><details class=\"dni-treeview\"><summary><span class=\"dni-code-hint\"><code>FunctionView { Name = BingMapsSearchUrl, PluginName = url, Description = Return URL for Bing Maps search query., Parameters = Microsoft.SemanticKernel.ParameterView[] }</code></span></summary><div><table><thead><tr></tr></thead><tbody><tr><td>Name</td><td><div class=\"dni-plaintext\"><pre>BingMapsSearchUrl</pre></div></td></tr><tr><td>PluginName</td><td><div class=\"dni-plaintext\"><pre>url</pre></div></td></tr><tr><td>Description</td><td><div class=\"dni-plaintext\"><pre>Return URL for Bing Maps search query.</pre></div></td></tr><tr><td>Parameters</td><td><table><thead><tr><th><i>index</i></th><th>value</th></tr></thead><tbody><tr><td>0</td><td><details class=\"dni-treeview\"><summary><span class=\"dni-code-hint\"><code>ParameterView { Name = query, Description = Text to search for, DefaultValue = , Type = , IsRequired = True }</code></span></summary><div><table><thead><tr></tr></thead><tbody><tr><td>Name</td><td><div class=\"dni-plaintext\"><pre>query</pre></div></td></tr><tr><td>Description</td><td><div class=\"dni-plaintext\"><pre>Text to search for</pre></div></td></tr><tr><td>DefaultValue</td><td><div class=\"dni-plaintext\"><pre></pre></div></td></tr><tr><td>Type</td><td><div class=\"dni-plaintext\"><pre>&lt;null&gt;</pre></div></td></tr><tr><td>IsRequired</td><td><div class=\"dni-plaintext\"><pre>True</pre></div></td></tr></tbody></table></div></details></td></tr></tbody></table></td></tr></tbody></table></div></details></td></tr><tr><td>10</td><td><details class=\"dni-treeview\"><summary><span class=\"dni-code-hint\"><code>FunctionView { Name = TwitterSearchUrl, PluginName = url, Description = Return URL for Twitter search query., Parameters = Microsoft.SemanticKernel.ParameterView[] }</code></span></summary><div><table><thead><tr></tr></thead><tbody><tr><td>Name</td><td><div class=\"dni-plaintext\"><pre>TwitterSearchUrl</pre></div></td></tr><tr><td>PluginName</td><td><div class=\"dni-plaintext\"><pre>url</pre></div></td></tr><tr><td>Description</td><td><div class=\"dni-plaintext\"><pre>Return URL for Twitter search query.</pre></div></td></tr><tr><td>Parameters</td><td><table><thead><tr><th><i>index</i></th><th>value</th></tr></thead><tbody><tr><td>0</td><td><details class=\"dni-treeview\"><summary><span class=\"dni-code-hint\"><code>ParameterView { Name = query, Description = Text to search for, DefaultValue = , Type = , IsRequired = True }</code></span></summary><div><table><thead><tr></tr></thead><tbody><tr><td>Name</td><td><div class=\"dni-plaintext\"><pre>query</pre></div></td></tr><tr><td>Description</td><td><div class=\"dni-plaintext\"><pre>Text to search for</pre></div></td></tr><tr><td>DefaultValue</td><td><div class=\"dni-plaintext\"><pre></pre></div></td></tr><tr><td>Type</td><td><div class=\"dni-plaintext\"><pre>&lt;null&gt;</pre></div></td></tr><tr><td>IsRequired</td><td><div class=\"dni-plaintext\"><pre>True</pre></div></td></tr></tbody></table></div></details></td></tr></tbody></table></td></tr></tbody></table></div></details></td></tr><tr><td>11</td><td><details class=\"dni-treeview\"><summary><span class=\"dni-code-hint\"><code>FunctionView { Name = BingTravelSearchUrl, PluginName = url, Description = Return URL for Bing Travel search query., Parameters = Microsoft.SemanticKernel.ParameterView[] }</code></span></summary><div><table><thead><tr></tr></thead><tbody><tr><td>Name</td><td><div class=\"dni-plaintext\"><pre>BingTravelSearchUrl</pre></div></td></tr><tr><td>PluginName</td><td><div class=\"dni-plaintext\"><pre>url</pre></div></td></tr><tr><td>Description</td><td><div class=\"dni-plaintext\"><pre>Return URL for Bing Travel search query.</pre></div></td></tr><tr><td>Parameters</td><td><table><thead><tr><th><i>index</i></th><th>value</th></tr></thead><tbody><tr><td>0</td><td><details class=\"dni-treeview\"><summary><span class=\"dni-code-hint\"><code>ParameterView { Name = query, Description = Text to search for, DefaultValue = , Type = , IsRequired = True }</code></span></summary><div><table><thead><tr></tr></thead><tbody><tr><td>Name</td><td><div class=\"dni-plaintext\"><pre>query</pre></div></td></tr><tr><td>Description</td><td><div class=\"dni-plaintext\"><pre>Text to search for</pre></div></td></tr><tr><td>DefaultValue</td><td><div class=\"dni-plaintext\"><pre></pre></div></td></tr><tr><td>Type</td><td><div class=\"dni-plaintext\"><pre>&lt;null&gt;</pre></div></td></tr><tr><td>IsRequired</td><td><div class=\"dni-plaintext\"><pre>True</pre></div></td></tr></tbody></table></div></details></td></tr></tbody></table></td></tr></tbody></table></div></details></td></tr><tr><td>12</td><td><details class=\"dni-treeview\"><summary><span class=\"dni-code-hint\"><code>FunctionView { Name = Seconds, PluginName = wait, Description = Wait a given amount of seconds, Parameters = Microsoft.SemanticKernel.ParameterView[] }</code></span></summary><div><table><thead><tr></tr></thead><tbody><tr><td>Name</td><td><div class=\"dni-plaintext\"><pre>Seconds</pre></div></td></tr><tr><td>PluginName</td><td><div class=\"dni-plaintext\"><pre>wait</pre></div></td></tr><tr><td>Description</td><td><div class=\"dni-plaintext\"><pre>Wait a given amount of seconds</pre></div></td></tr><tr><td>Parameters</td><td><table><thead><tr><th><i>index</i></th><th>value</th></tr></thead><tbody><tr><td>0</td><td><details class=\"dni-treeview\"><summary><span class=\"dni-code-hint\"><code>ParameterView { Name = seconds, Description = The number of seconds to wait, DefaultValue = , Type = , IsRequired = True }</code></span></summary><div><table><thead><tr></tr></thead><tbody><tr><td>Name</td><td><div class=\"dni-plaintext\"><pre>seconds</pre></div></td></tr><tr><td>Description</td><td><div class=\"dni-plaintext\"><pre>The number of seconds to wait</pre></div></td></tr><tr><td>DefaultValue</td><td><div class=\"dni-plaintext\"><pre></pre></div></td></tr><tr><td>Type</td><td><div class=\"dni-plaintext\"><pre>&lt;null&gt;</pre></div></td></tr><tr><td>IsRequired</td><td><div class=\"dni-plaintext\"><pre>True</pre></div></td></tr></tbody></table></div></details></td></tr></tbody></table></td></tr></tbody></table></div></details></td></tr><tr><td>13</td><td><details class=\"dni-treeview\"><summary><span class=\"dni-code-hint\"><code>FunctionView { Name = Trim, PluginName = text, Description = Trim whitespace from the start and end of a string., Parameters = Microsoft.SemanticKernel.ParameterView[] }</code></span></summary><div><table><thead><tr></tr></thead><tbody><tr><td>Name</td><td><div class=\"dni-plaintext\"><pre>Trim</pre></div></td></tr><tr><td>PluginName</td><td><div class=\"dni-plaintext\"><pre>text</pre></div></td></tr><tr><td>Description</td><td><div class=\"dni-plaintext\"><pre>Trim whitespace from the start and end of a string.</pre></div></td></tr><tr><td>Parameters</td><td><table><thead><tr><th><i>index</i></th><th>value</th></tr></thead><tbody><tr><td>0</td><td><details class=\"dni-treeview\"><summary><span class=\"dni-code-hint\"><code>ParameterView { Name = input, Description = , DefaultValue = , Type = , IsRequired = True }</code></span></summary><div><table><thead><tr></tr></thead><tbody><tr><td>Name</td><td><div class=\"dni-plaintext\"><pre>input</pre></div></td></tr><tr><td>Description</td><td><div class=\"dni-plaintext\"><pre></pre></div></td></tr><tr><td>DefaultValue</td><td><div class=\"dni-plaintext\"><pre></pre></div></td></tr><tr><td>Type</td><td><div class=\"dni-plaintext\"><pre>&lt;null&gt;</pre></div></td></tr><tr><td>IsRequired</td><td><div class=\"dni-plaintext\"><pre>True</pre></div></td></tr></tbody></table></div></details></td></tr></tbody></table></td></tr></tbody></table></div></details></td></tr><tr><td>14</td><td><details class=\"dni-treeview\"><summary><span class=\"dni-code-hint\"><code>FunctionView { Name = Echo, PluginName = text, Description = Echo the input string. Useful for capturing plan input for use in multiple functions., Parameters = Microsoft.SemanticKernel.ParameterView[] }</code></span></summary><div><table><thead><tr></tr></thead><tbody><tr><td>Name</td><td><div class=\"dni-plaintext\"><pre>Echo</pre></div></td></tr><tr><td>PluginName</td><td><div class=\"dni-plaintext\"><pre>text</pre></div></td></tr><tr><td>Description</td><td><div class=\"dni-plaintext\"><pre>Echo the input string. Useful for capturing plan input for use in multiple functions.</pre></div></td></tr><tr><td>Parameters</td><td><table><thead><tr><th><i>index</i></th><th>value</th></tr></thead><tbody><tr><td>0</td><td><details class=\"dni-treeview\"><summary><span class=\"dni-code-hint\"><code>ParameterView { Name = text, Description = Input string to echo., DefaultValue = , Type = , IsRequired = True }</code></span></summary><div><table><thead><tr></tr></thead><tbody><tr><td>Name</td><td><div class=\"dni-plaintext\"><pre>text</pre></div></td></tr><tr><td>Description</td><td><div class=\"dni-plaintext\"><pre>Input string to echo.</pre></div></td></tr><tr><td>DefaultValue</td><td><div class=\"dni-plaintext\"><pre></pre></div></td></tr><tr><td>Type</td><td><div class=\"dni-plaintext\"><pre>&lt;null&gt;</pre></div></td></tr><tr><td>IsRequired</td><td><div class=\"dni-plaintext\"><pre>True</pre></div></td></tr></tbody></table></div></details></td></tr></tbody></table></td></tr></tbody></table></div></details></td></tr><tr><td>15</td><td><details class=\"dni-treeview\"><summary><span class=\"dni-code-hint\"><code>FunctionView { Name = Concat, PluginName = text, Description = Concat two strings into one., Parameters = Microsoft.SemanticKernel.ParameterView[] }</code></span></summary><div><table><thead><tr></tr></thead><tbody><tr><td>Name</td><td><div class=\"dni-plaintext\"><pre>Concat</pre></div></td></tr><tr><td>PluginName</td><td><div class=\"dni-plaintext\"><pre>text</pre></div></td></tr><tr><td>Description</td><td><div class=\"dni-plaintext\"><pre>Concat two strings into one.</pre></div></td></tr><tr><td>Parameters</td><td><table><thead><tr><th><i>index</i></th><th>value</th></tr></thead><tbody><tr><td>0</td><td><details class=\"dni-treeview\"><summary><span class=\"dni-code-hint\"><code>ParameterView { Name = input, Description = First input to concatenate with, DefaultValue = , Type = , IsRequired = True }</code></span></summary><div><table><thead><tr></tr></thead><tbody><tr><td>Name</td><td><div class=\"dni-plaintext\"><pre>input</pre></div></td></tr><tr><td>Description</td><td><div class=\"dni-plaintext\"><pre>First input to concatenate with</pre></div></td></tr><tr><td>DefaultValue</td><td><div class=\"dni-plaintext\"><pre></pre></div></td></tr><tr><td>Type</td><td><div class=\"dni-plaintext\"><pre>&lt;null&gt;</pre></div></td></tr><tr><td>IsRequired</td><td><div class=\"dni-plaintext\"><pre>True</pre></div></td></tr></tbody></table></div></details></td></tr><tr><td>1</td><td><details class=\"dni-treeview\"><summary><span class=\"dni-code-hint\"><code>ParameterView { Name = input2, Description = Second input to concatenate with, DefaultValue = , Type = , IsRequired = True }</code></span></summary><div><table><thead><tr></tr></thead><tbody><tr><td>Name</td><td><div class=\"dni-plaintext\"><pre>input2</pre></div></td></tr><tr><td>Description</td><td><div class=\"dni-plaintext\"><pre>Second input to concatenate with</pre></div></td></tr><tr><td>DefaultValue</td><td><div class=\"dni-plaintext\"><pre></pre></div></td></tr><tr><td>Type</td><td><div class=\"dni-plaintext\"><pre>&lt;null&gt;</pre></div></td></tr><tr><td>IsRequired</td><td><div class=\"dni-plaintext\"><pre>True</pre></div></td></tr></tbody></table></div></details></td></tr></tbody></table></td></tr></tbody></table></div></details></td></tr><tr><td>16</td><td><details class=\"dni-treeview\"><summary><span class=\"dni-code-hint\"><code>FunctionView { Name = Uppercase, PluginName = text, Description = Convert a string to uppercase., Parameters = Microsoft.SemanticKernel.ParameterView[] }</code></span></summary><div><table><thead><tr></tr></thead><tbody><tr><td>Name</td><td><div class=\"dni-plaintext\"><pre>Uppercase</pre></div></td></tr><tr><td>PluginName</td><td><div class=\"dni-plaintext\"><pre>text</pre></div></td></tr><tr><td>Description</td><td><div class=\"dni-plaintext\"><pre>Convert a string to uppercase.</pre></div></td></tr><tr><td>Parameters</td><td><table><thead><tr><th><i>index</i></th><th>value</th></tr></thead><tbody><tr><td>0</td><td><details class=\"dni-treeview\"><summary><span class=\"dni-code-hint\"><code>ParameterView { Name = input, Description = , DefaultValue = , Type = , IsRequired = True }</code></span></summary><div><table><thead><tr></tr></thead><tbody><tr><td>Name</td><td><div class=\"dni-plaintext\"><pre>input</pre></div></td></tr><tr><td>Description</td><td><div class=\"dni-plaintext\"><pre></pre></div></td></tr><tr><td>DefaultValue</td><td><div class=\"dni-plaintext\"><pre></pre></div></td></tr><tr><td>Type</td><td><div class=\"dni-plaintext\"><pre>&lt;null&gt;</pre></div></td></tr><tr><td>IsRequired</td><td><div class=\"dni-plaintext\"><pre>True</pre></div></td></tr></tbody></table></div></details></td></tr></tbody></table></td></tr></tbody></table></div></details></td></tr><tr><td>17</td><td><details class=\"dni-treeview\"><summary><span class=\"dni-code-hint\"><code>FunctionView { Name = Lowercase, PluginName = text, Description = Convert a string to lowercase., Parameters = Microsoft.SemanticKernel.ParameterView[] }</code></span></summary><div><table><thead><tr></tr></thead><tbody><tr><td>Name</td><td><div class=\"dni-plaintext\"><pre>Lowercase</pre></div></td></tr><tr><td>PluginName</td><td><div class=\"dni-plaintext\"><pre>text</pre></div></td></tr><tr><td>Description</td><td><div class=\"dni-plaintext\"><pre>Convert a string to lowercase.</pre></div></td></tr><tr><td>Parameters</td><td><table><thead><tr><th><i>index</i></th><th>value</th></tr></thead><tbody><tr><td>0</td><td><details class=\"dni-treeview\"><summary><span class=\"dni-code-hint\"><code>ParameterView { Name = input, Description = , DefaultValue = , Type = , IsRequired = True }</code></span></summary><div><table><thead><tr></tr></thead><tbody><tr><td>Name</td><td><div class=\"dni-plaintext\"><pre>input</pre></div></td></tr><tr><td>Description</td><td><div class=\"dni-plaintext\"><pre></pre></div></td></tr><tr><td>DefaultValue</td><td><div class=\"dni-plaintext\"><pre></pre></div></td></tr><tr><td>Type</td><td><div class=\"dni-plaintext\"><pre>&lt;null&gt;</pre></div></td></tr><tr><td>IsRequired</td><td><div class=\"dni-plaintext\"><pre>True</pre></div></td></tr></tbody></table></div></details></td></tr></tbody></table></td></tr></tbody></table></div></details></td></tr><tr><td>18</td><td><details class=\"dni-treeview\"><summary><span class=\"dni-code-hint\"><code>FunctionView { Name = TrimStart, PluginName = text, Description = Trim whitespace from the start of a string., Parameters = Microsoft.SemanticKernel.ParameterView[] }</code></span></summary><div><table><thead><tr></tr></thead><tbody><tr><td>Name</td><td><div class=\"dni-plaintext\"><pre>TrimStart</pre></div></td></tr><tr><td>PluginName</td><td><div class=\"dni-plaintext\"><pre>text</pre></div></td></tr><tr><td>Description</td><td><div class=\"dni-plaintext\"><pre>Trim whitespace from the start of a string.</pre></div></td></tr><tr><td>Parameters</td><td><table><thead><tr><th><i>index</i></th><th>value</th></tr></thead><tbody><tr><td>0</td><td><details class=\"dni-treeview\"><summary><span class=\"dni-code-hint\"><code>ParameterView { Name = input, Description = , DefaultValue = , Type = , IsRequired = True }</code></span></summary><div><table><thead><tr></tr></thead><tbody><tr><td>Name</td><td><div class=\"dni-plaintext\"><pre>input</pre></div></td></tr><tr><td>Description</td><td><div class=\"dni-plaintext\"><pre></pre></div></td></tr><tr><td>DefaultValue</td><td><div class=\"dni-plaintext\"><pre></pre></div></td></tr><tr><td>Type</td><td><div class=\"dni-plaintext\"><pre>&lt;null&gt;</pre></div></td></tr><tr><td>IsRequired</td><td><div class=\"dni-plaintext\"><pre>True</pre></div></td></tr></tbody></table></div></details></td></tr></tbody></table></td></tr></tbody></table></div></details></td></tr><tr><td>19</td><td><details class=\"dni-treeview\"><summary><span class=\"dni-code-hint\"><code>FunctionView { Name = Length, PluginName = text, Description = Get the length of a string., Parameters = Microsoft.SemanticKernel.ParameterView[] }</code></span></summary><div><table><thead><tr></tr></thead><tbody><tr><td>Name</td><td><div class=\"dni-plaintext\"><pre>Length</pre></div></td></tr><tr><td>PluginName</td><td><div class=\"dni-plaintext\"><pre>text</pre></div></td></tr><tr><td>Description</td><td><div class=\"dni-plaintext\"><pre>Get the length of a string.</pre></div></td></tr><tr><td>Parameters</td><td><table><thead><tr><th><i>index</i></th><th>value</th></tr></thead><tbody><tr><td>0</td><td><details class=\"dni-treeview\"><summary><span class=\"dni-code-hint\"><code>ParameterView { Name = input, Description = , DefaultValue = , Type = , IsRequired = True }</code></span></summary><div><table><thead><tr></tr></thead><tbody><tr><td>Name</td><td><div class=\"dni-plaintext\"><pre>input</pre></div></td></tr><tr><td>Description</td><td><div class=\"dni-plaintext\"><pre></pre></div></td></tr><tr><td>DefaultValue</td><td><div class=\"dni-plaintext\"><pre></pre></div></td></tr><tr><td>Type</td><td><div class=\"dni-plaintext\"><pre>&lt;null&gt;</pre></div></td></tr><tr><td>IsRequired</td><td><div class=\"dni-plaintext\"><pre>True</pre></div></td></tr></tbody></table></div></details></td></tr></tbody></table></td></tr></tbody></table></div></details></td></tr><tr><td colspan=\"2\"><i>(29 more)</i></td></tr></tbody></table><style>\r\n",
       ".dni-code-hint {\r\n",
       "    font-style: italic;\r\n",
       "    overflow: hidden;\r\n",
       "    white-space: nowrap;\r\n",
       "}\r\n",
       ".dni-treeview {\r\n",
       "    white-space: nowrap;\r\n",
       "}\r\n",
       ".dni-treeview td {\r\n",
       "    vertical-align: top;\r\n",
       "    text-align: start;\r\n",
       "}\r\n",
       "details.dni-treeview {\r\n",
       "    padding-left: 1em;\r\n",
       "}\r\n",
       "table td {\r\n",
       "    text-align: start;\r\n",
       "}\r\n",
       "table tr { \r\n",
       "    vertical-align: top; \r\n",
       "    margin: 0em 0px;\r\n",
       "}\r\n",
       "table tr td pre \r\n",
       "{ \r\n",
       "    vertical-align: top !important; \r\n",
       "    margin: 0em 0px !important;\r\n",
       "} \r\n",
       "table th {\r\n",
       "    text-align: start;\r\n",
       "}\r\n",
       "</style>"
      ]
     },
     "metadata": {},
     "output_type": "display_data"
    }
   ],
   "source": [
    "kernel.Functions.GetFunctionViews().Display();"
   ]
  },
  {
   "cell_type": "markdown",
   "metadata": {},
   "source": [
    "## Step 3: Test Completions by creating a simple inline function"
   ]
  },
  {
   "cell_type": "code",
   "execution_count": 12,
   "metadata": {
    "dotnet_interactive": {
     "language": "csharp"
    },
    "polyglot_notebook": {
     "kernelName": "csharp"
    },
    "vscode": {
     "languageId": "polyglot-notebook"
    }
   },
   "outputs": [
    {
     "data": {
      "text/plain": [
       "The sky appears blue because of a process called Rayleigh scattering. As sunlight reaches Earth's atmosphere, it is made up of different colors that are represented in a rainbow, or light spectrum. These colors are differentiated by their wavelengths. Blue and violet light have the shortest wavelengths and are scattered in all directions by the gas molecules in Earth's atmosphere.\n",
       "\n",
       "Blue light is scattered more than other colors because it travels in smaller, shorter waves. This scattering causes the sky to appear blue in our perception. However,"
      ]
     },
     "metadata": {},
     "output_type": "display_data"
    },
    {
     "data": {
      "text/plain": [
       "The color of the ocean can vary and is influenced by several factors. It can appear green due to the presence of large amounts of algae or phytoplankton, tiny plant-like organisms that contain chlorophyll. When sunlight hits the water, it can be absorbed or reflected. Chlorophyll in phytoplankton absorbs light, particularly in the red and blue parts of the light spectrum, and reflects green light. This reflected light is what we see, which can give the ocean a green appearance"
      ]
     },
     "metadata": {},
     "output_type": "display_data"
    }
   ],
   "source": [
    "using Microsoft.SemanticKernel.Connectors.AI.OpenAI;\n",
    "\n",
    "// 1. define the function called \"ask\"\n",
    "var askFunction = kernel.CreateSemanticFunction(\n",
    "    promptTemplate: \"{{$input}}\", \n",
    "    requestSettings: new OpenAIRequestSettings() { \n",
    "        MaxTokens = 100, \n",
    "        Temperature = 0.4, \n",
    "        TopP = 1,\n",
    "        // Here I have specified the service id. \n",
    "        // Comment this out if you would like to use the default service id.\n",
    "        // ServiceId = \"oai-gpt-4-0613\" \n",
    "    },\n",
    "    functionName: \"ask\");\n",
    "\n",
    "// 2. call the function directly using the function object\n",
    "var directResult = await kernel.RunAsync(\"Why is the sky blue?\", askFunction);\n",
    "directResult.GetValue<string>().Display();\n",
    "\n",
    "// ALTERNATIVELY\n",
    "// 2. call the function by name using the kernel.\n",
    "var nameResult = await kernel.Functions.GetFunction(\"ask\").InvokeAsync(\"why is the ocean green?\", kernel);\n",
    "nameResult.GetValue<string>().Display();\n"
   ]
  },
  {
   "cell_type": "markdown",
   "metadata": {},
   "source": [
    "## Step 4: Test Core Plugins"
   ]
  },
  {
   "cell_type": "markdown",
   "metadata": {},
   "source": [
    "4.1: Text plugin"
   ]
  },
  {
   "cell_type": "code",
   "execution_count": 13,
   "metadata": {
    "dotnet_interactive": {
     "language": "csharp"
    },
    "polyglot_notebook": {
     "kernelName": "csharp"
    },
    "vscode": {
     "languageId": "polyglot-notebook"
    }
   },
   "outputs": [
    {
     "data": {
      "text/plain": [
       "hello world"
      ]
     },
     "metadata": {},
     "output_type": "display_data"
    },
    {
     "data": {
      "text/plain": [
       "  hello world"
      ]
     },
     "metadata": {},
     "output_type": "display_data"
    }
   ],
   "source": [
    "var r = await kernel.Functions.GetFunction(\"text\", \"trim\").InvokeAsync(\"  hello world  \", kernel);\n",
    "r.GetValue<string>().Display();\n",
    "\n",
    "r = await kernel.Functions.GetFunction(\"text\", \"trimEnd\").InvokeAsync(\"  hello world  \", kernel);\n",
    "r.GetValue<string>().Display();"
   ]
  },
  {
   "cell_type": "markdown",
   "metadata": {},
   "source": [
    "4.1: This is a continuation of the previous step. Here we see how to \"chain\" plugins together. We call the \"ask\" plugin & pass the output to the \"text\" plugin where we can see the output in uppercase."
   ]
  },
  {
   "cell_type": "code",
   "execution_count": 14,
   "metadata": {
    "dotnet_interactive": {
     "language": "csharp"
    },
    "polyglot_notebook": {
     "kernelName": "csharp"
    },
    "vscode": {
     "languageId": "polyglot-notebook"
    }
   },
   "outputs": [
    {
     "data": {
      "text/plain": [
       "WHY DON'T SCIENTISTS TRUST ATOMS? BECAUSE THEY MAKE UP EVERYTHING!"
      ]
     },
     "metadata": {},
     "output_type": "display_data"
    }
   ],
   "source": [
    "var r = await kernel.RunAsync(\n",
    "    \"Tell me 1 sentence joke.\",\n",
    "    kernel.Functions.GetFunction(\"ask\"),\n",
    "    kernel.Functions.GetFunction(\"text\", \"uppercase\")\n",
    ");\n",
    "r.GetValue<string>().Display();"
   ]
  },
  {
   "cell_type": "markdown",
   "metadata": {},
   "source": [
    "## Step 5: Test Web Plugins"
   ]
  },
  {
   "cell_type": "code",
   "execution_count": 15,
   "metadata": {
    "dotnet_interactive": {
     "language": "csharp"
    },
    "polyglot_notebook": {
     "kernelName": "csharp"
    },
    "vscode": {
     "languageId": "polyglot-notebook"
    }
   },
   "outputs": [
    {
     "data": {
      "text/html": [
       "<details open=\"open\" class=\"dni-treeview\"><summary><span class=\"dni-code-hint\"><code>[&quot;The annual inflation rate for the United States was 3.7% for the 12 months ended September, according to U.S. Labor Department data published on Oct. 12, 2023. This was the same as the 3.7% in the previous period. The next update on inflation is scheduled for release on Nov. 14 at 8:30 a.m. ET.&quot;,&quot;...</code></span></summary><div><table><thead><tr></tr></thead><tbody><tr><td>FunctionName</td><td><div class=\"dni-plaintext\"><pre>Search</pre></div></td></tr><tr><td>PluginName</td><td><div class=\"dni-plaintext\"><pre>bing</pre></div></td></tr><tr><td>Metadata</td><td><i>(empty)</i></td></tr></tbody></table></div></details><style>\r\n",
       ".dni-code-hint {\r\n",
       "    font-style: italic;\r\n",
       "    overflow: hidden;\r\n",
       "    white-space: nowrap;\r\n",
       "}\r\n",
       ".dni-treeview {\r\n",
       "    white-space: nowrap;\r\n",
       "}\r\n",
       ".dni-treeview td {\r\n",
       "    vertical-align: top;\r\n",
       "    text-align: start;\r\n",
       "}\r\n",
       "details.dni-treeview {\r\n",
       "    padding-left: 1em;\r\n",
       "}\r\n",
       "table td {\r\n",
       "    text-align: start;\r\n",
       "}\r\n",
       "table tr { \r\n",
       "    vertical-align: top; \r\n",
       "    margin: 0em 0px;\r\n",
       "}\r\n",
       "table tr td pre \r\n",
       "{ \r\n",
       "    vertical-align: top !important; \r\n",
       "    margin: 0em 0px !important;\r\n",
       "} \r\n",
       "table th {\r\n",
       "    text-align: start;\r\n",
       "}\r\n",
       "</style>"
      ]
     },
     "metadata": {},
     "output_type": "display_data"
    }
   ],
   "source": [
    "var webQuery = \"What is the inflation rate in the US in September 2023?\";\n",
    "\n",
    "var inflationData = await kernel.Functions.GetFunction(\"bing\", \"search\").InvokeAsync(webQuery, kernel);\n",
    "\n",
    "inflationData.Display();"
   ]
  },
  {
   "cell_type": "markdown",
   "metadata": {},
   "source": [
    "## Step 6: Test Memories"
   ]
  },
  {
   "cell_type": "code",
   "execution_count": 16,
   "metadata": {
    "dotnet_interactive": {
     "language": "csharp"
    },
    "polyglot_notebook": {
     "kernelName": "csharp"
    },
    "vscode": {
     "languageId": "polyglot-notebook"
    }
   },
   "outputs": [
    {
     "name": "stdout",
     "output_type": "stream",
     "text": [
      "Has tentacles? - Octopus\n"
     ]
    }
   ],
   "source": [
    "var db = \"random-animals\";\n",
    "\n",
    "await kernel.Memory.SaveInformationAsync(\n",
    "    db, id: \"1\", text: \"Dog\");\n",
    "await kernel.Memory.SaveInformationAsync(\n",
    "    db, id: \"2\", text: \"Elephant\");\n",
    "await kernel.Memory.SaveInformationAsync(\n",
    "    db, id: \"3\", text: \"Octopus\");\n",
    "\n",
    "var memorySearch = \"Has tentacles?\";\n",
    "await foreach (var item in kernel.Memory.SearchAsync(\n",
    "    collection: db, \n",
    "    query: memorySearch, \n",
    "    limit: 1, \n",
    "    minRelevanceScore: 0.5))\n",
    "{\n",
    "    Console.WriteLine($\"{memorySearch} - {item.Metadata.Text}\");\n",
    "}\n",
    "\n",
    "await kernel.Memory.RemoveAsync(db,\"1\");\n",
    "await kernel.Memory.RemoveAsync(db,\"2\");\n",
    "await kernel.Memory.RemoveAsync(db,\"3\");"
   ]
  }
 ],
 "metadata": {
  "language_info": {
   "name": "python"
  }
 },
 "nbformat": 4,
 "nbformat_minor": 2
}
