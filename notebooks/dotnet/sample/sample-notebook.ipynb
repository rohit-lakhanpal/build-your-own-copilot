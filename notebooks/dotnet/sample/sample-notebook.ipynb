{
 "cells": [
  {
   "cell_type": "markdown",
   "metadata": {},
   "source": [
    "# Sample Notebook using the latest version of the SDK (v1.0.0-beta4)"
   ]
  },
  {
   "cell_type": "markdown",
   "metadata": {},
   "source": [
    "## Step 1: Load required libraries"
   ]
  },
  {
   "cell_type": "code",
   "execution_count": 1,
   "metadata": {
    "dotnet_interactive": {
     "language": "csharp"
    },
    "polyglot_notebook": {
     "kernelName": "csharp"
    },
    "vscode": {
     "languageId": "polyglot-notebook"
    }
   },
   "outputs": [
    {
     "data": {
      "text/html": [
       "<div><div></div><div></div><div><strong>Installed Packages</strong><ul><li><span>Microsoft.SemanticKernel, 1.0.0-beta4</span></li><li><span>Microsoft.SemanticKernel.Connectors.Memory.AzureCognitiveSearch, 1.0.0-beta4</span></li><li><span>Microsoft.SemanticKernel.Plugins.Core, 1.0.0-beta4</span></li><li><span>Microsoft.SemanticKernel.Plugins.Memory, 1.0.0-beta4</span></li><li><span>Microsoft.SemanticKernel.Plugins.Web, 1.0.0-beta4</span></li></ul></div></div>"
      ]
     },
     "metadata": {},
     "output_type": "display_data"
    }
   ],
   "source": [
    "#r \"nuget: Microsoft.SemanticKernel, 1.0.0-beta4\"\n",
    "#r \"nuget: Microsoft.SemanticKernel.Plugins.Core, 1.0.0-beta4\"\n",
    "#r \"nuget: Microsoft.SemanticKernel.Plugins.Web, 1.0.0-beta4\"\n",
    "#r \"nuget: Microsoft.SemanticKernel.Plugins.Memory, 1.0.0-beta4\"\n",
    "#r \"nuget: Microsoft.SemanticKernel.Connectors.Memory.AzureCognitiveSearch, 1.0.0-beta4\""
   ]
  },
  {
   "cell_type": "markdown",
   "metadata": {},
   "source": [
    "## Step 2: Setup Kernel"
   ]
  },
  {
   "cell_type": "markdown",
   "metadata": {},
   "source": [
    "Import files from the `config` directory"
   ]
  },
  {
   "cell_type": "code",
   "execution_count": 2,
   "metadata": {
    "dotnet_interactive": {
     "language": "csharp"
    },
    "polyglot_notebook": {
     "kernelName": "csharp"
    },
    "vscode": {
     "languageId": "polyglot-notebook"
    }
   },
   "outputs": [],
   "source": [
    "#!import ../../../config/dotnet/StringHelpers.cs\n",
    "#!import ../../../config/dotnet/ConfigModels.cs\n",
    "#!import ../../../config/dotnet/ConfigHelper.cs\n",
    "#!import ../../../config/dotnet/KernelHelper.cs"
   ]
  },
  {
   "cell_type": "markdown",
   "metadata": {},
   "source": [
    "Display the current configuration (Optional).\n",
    "> **⚠️ Note ☠️:** This is useful to check the current configuration. But be sure to comment this out & clear the output before committing the notebook. You don't want to commit your credentials. ⚠️"
   ]
  },
  {
   "cell_type": "code",
   "execution_count": 3,
   "metadata": {
    "dotnet_interactive": {
     "language": "csharp"
    },
    "polyglot_notebook": {
     "kernelName": "csharp"
    },
    "vscode": {
     "languageId": "polyglot-notebook"
    }
   },
   "outputs": [],
   "source": [
    "// Note: Comment this out & clear the output before committing the notebook. \n",
    "// You don't want to commit your credentials. \n",
    "// new ConfigurationHelper().GetConfiguration().Display();"
   ]
  },
  {
   "cell_type": "markdown",
   "metadata": {},
   "source": [
    "Load the kernel"
   ]
  },
  {
   "cell_type": "code",
   "execution_count": 4,
   "metadata": {
    "dotnet_interactive": {
     "language": "csharp"
    },
    "polyglot_notebook": {
     "kernelName": "csharp"
    },
    "vscode": {
     "languageId": "polyglot-notebook"
    }
   },
   "outputs": [
    {
     "data": {
      "text/html": [
       "<details open=\"open\" class=\"dni-treeview\"><summary><span class=\"dni-code-hint\"><code>Microsoft.SemanticKernel.Kernel</code></span></summary><div><table><thead><tr></tr></thead><tbody><tr><td>LoggerFactory</td><td><details class=\"dni-treeview\"><summary><span class=\"dni-code-hint\"><code>Microsoft.Extensions.Logging.Abstractions.NullLoggerFactory</code></span></summary><div><table><thead><tr></tr></thead><tbody></tbody></table></div></details></td></tr><tr><td>Functions</td><td><details class=\"dni-treeview\"><summary><span class=\"dni-code-hint\"><code>Microsoft.SemanticKernel.FunctionCollection</code></span></summary><div><table><thead><tr></tr></thead><tbody></tbody></table></div></details></td></tr><tr><td>PromptTemplateEngine</td><td><details class=\"dni-treeview\"><summary><span class=\"dni-code-hint\"><code>Microsoft.SemanticKernel.TemplateEngine.Basic.BasicPromptTemplateEngine</code></span></summary><div><table><thead><tr></tr></thead><tbody></tbody></table></div></details></td></tr><tr><td>HttpHandlerFactory</td><td><details class=\"dni-treeview\"><summary><span class=\"dni-code-hint\"><code>Microsoft.SemanticKernel.Reliability.Basic.BasicHttpRetryHandlerFactory</code></span></summary><div><table><thead><tr></tr></thead><tbody></tbody></table></div></details></td></tr><tr><td>Memory</td><td><details class=\"dni-treeview\"><summary><span class=\"dni-code-hint\"><code>Microsoft.SemanticKernel.Memory.SemanticTextMemory</code></span></summary><div><table><thead><tr></tr></thead><tbody></tbody></table></div></details></td></tr><tr><td>Skills</td><td><details class=\"dni-treeview\"><summary><span class=\"dni-code-hint\"><code>Microsoft.SemanticKernel.FunctionCollection</code></span></summary><div><table><thead><tr></tr></thead><tbody></tbody></table></div></details></td></tr></tbody></table></div></details><style>\r\n",
       ".dni-code-hint {\r\n",
       "    font-style: italic;\r\n",
       "    overflow: hidden;\r\n",
       "    white-space: nowrap;\r\n",
       "}\r\n",
       ".dni-treeview {\r\n",
       "    white-space: nowrap;\r\n",
       "}\r\n",
       ".dni-treeview td {\r\n",
       "    vertical-align: top;\r\n",
       "    text-align: start;\r\n",
       "}\r\n",
       "details.dni-treeview {\r\n",
       "    padding-left: 1em;\r\n",
       "}\r\n",
       "table td {\r\n",
       "    text-align: start;\r\n",
       "}\r\n",
       "table tr { \r\n",
       "    vertical-align: top; \r\n",
       "    margin: 0em 0px;\r\n",
       "}\r\n",
       "table tr td pre \r\n",
       "{ \r\n",
       "    vertical-align: top !important; \r\n",
       "    margin: 0em 0px !important;\r\n",
       "} \r\n",
       "table th {\r\n",
       "    text-align: start;\r\n",
       "}\r\n",
       "</style>"
      ]
     },
     "metadata": {},
     "output_type": "display_data"
    }
   ],
   "source": [
    "var kernel = KernelHelper.LoadKernel();\n",
    "kernel.Display();"
   ]
  },
  {
   "cell_type": "markdown",
   "metadata": {},
   "source": [
    "Display all available functions (via enabled plugins)"
   ]
  },
  {
   "cell_type": "code",
   "execution_count": 5,
   "metadata": {
    "dotnet_interactive": {
     "language": "csharp"
    },
    "polyglot_notebook": {
     "kernelName": "csharp"
    },
    "vscode": {
     "languageId": "polyglot-notebook"
    }
   },
   "outputs": [
    {
     "data": {
      "text/html": [
       "<table><thead><tr><th><i>index</i></th><th>value</th></tr></thead><tbody><tr><td>0</td><td><details class=\"dni-treeview\"><summary><span class=\"dni-code-hint\"><code>FunctionView { Name = Write, PluginName = file, Description = Write a file, Parameters = Microsoft.SemanticKernel.ParameterView[] }</code></span></summary><div><table><thead><tr></tr></thead><tbody><tr><td>Name</td><td><div class=\"dni-plaintext\"><pre>Write</pre></div></td></tr><tr><td>PluginName</td><td><div class=\"dni-plaintext\"><pre>file</pre></div></td></tr><tr><td>Description</td><td><div class=\"dni-plaintext\"><pre>Write a file</pre></div></td></tr><tr><td>Parameters</td><td><table><thead><tr><th><i>index</i></th><th>value</th></tr></thead><tbody><tr><td>0</td><td><details class=\"dni-treeview\"><summary><span class=\"dni-code-hint\"><code>ParameterView { Name = path, Description = Destination file, DefaultValue = , Type = , IsRequired = True }</code></span></summary><div><table><thead><tr></tr></thead><tbody><tr><td>Name</td><td><div class=\"dni-plaintext\"><pre>path</pre></div></td></tr><tr><td>Description</td><td><div class=\"dni-plaintext\"><pre>Destination file</pre></div></td></tr><tr><td>DefaultValue</td><td><div class=\"dni-plaintext\"><pre></pre></div></td></tr><tr><td>Type</td><td><div class=\"dni-plaintext\"><pre>&lt;null&gt;</pre></div></td></tr><tr><td>IsRequired</td><td><div class=\"dni-plaintext\"><pre>True</pre></div></td></tr></tbody></table></div></details></td></tr><tr><td>1</td><td><details class=\"dni-treeview\"><summary><span class=\"dni-code-hint\"><code>ParameterView { Name = content, Description = File content, DefaultValue = , Type = , IsRequired = True }</code></span></summary><div><table><thead><tr></tr></thead><tbody><tr><td>Name</td><td><div class=\"dni-plaintext\"><pre>content</pre></div></td></tr><tr><td>Description</td><td><div class=\"dni-plaintext\"><pre>File content</pre></div></td></tr><tr><td>DefaultValue</td><td><div class=\"dni-plaintext\"><pre></pre></div></td></tr><tr><td>Type</td><td><div class=\"dni-plaintext\"><pre>&lt;null&gt;</pre></div></td></tr><tr><td>IsRequired</td><td><div class=\"dni-plaintext\"><pre>True</pre></div></td></tr></tbody></table></div></details></td></tr></tbody></table></td></tr></tbody></table></div></details></td></tr><tr><td>1</td><td><details class=\"dni-treeview\"><summary><span class=\"dni-code-hint\"><code>FunctionView { Name = Read, PluginName = file, Description = Read a file, Parameters = Microsoft.SemanticKernel.ParameterView[] }</code></span></summary><div><table><thead><tr></tr></thead><tbody><tr><td>Name</td><td><div class=\"dni-plaintext\"><pre>Read</pre></div></td></tr><tr><td>PluginName</td><td><div class=\"dni-plaintext\"><pre>file</pre></div></td></tr><tr><td>Description</td><td><div class=\"dni-plaintext\"><pre>Read a file</pre></div></td></tr><tr><td>Parameters</td><td><table><thead><tr><th><i>index</i></th><th>value</th></tr></thead><tbody><tr><td>0</td><td><details class=\"dni-treeview\"><summary><span class=\"dni-code-hint\"><code>ParameterView { Name = path, Description = Source file, DefaultValue = , Type = , IsRequired = True }</code></span></summary><div><table><thead><tr></tr></thead><tbody><tr><td>Name</td><td><div class=\"dni-plaintext\"><pre>path</pre></div></td></tr><tr><td>Description</td><td><div class=\"dni-plaintext\"><pre>Source file</pre></div></td></tr><tr><td>DefaultValue</td><td><div class=\"dni-plaintext\"><pre></pre></div></td></tr><tr><td>Type</td><td><div class=\"dni-plaintext\"><pre>&lt;null&gt;</pre></div></td></tr><tr><td>IsRequired</td><td><div class=\"dni-plaintext\"><pre>True</pre></div></td></tr></tbody></table></div></details></td></tr></tbody></table></td></tr></tbody></table></div></details></td></tr><tr><td>2</td><td><details class=\"dni-treeview\"><summary><span class=\"dni-code-hint\"><code>FunctionView { Name = BingSearchUrl, PluginName = url, Description = Return URL for Bing search query., Parameters = Microsoft.SemanticKernel.ParameterView[] }</code></span></summary><div><table><thead><tr></tr></thead><tbody><tr><td>Name</td><td><div class=\"dni-plaintext\"><pre>BingSearchUrl</pre></div></td></tr><tr><td>PluginName</td><td><div class=\"dni-plaintext\"><pre>url</pre></div></td></tr><tr><td>Description</td><td><div class=\"dni-plaintext\"><pre>Return URL for Bing search query.</pre></div></td></tr><tr><td>Parameters</td><td><table><thead><tr><th><i>index</i></th><th>value</th></tr></thead><tbody><tr><td>0</td><td><details class=\"dni-treeview\"><summary><span class=\"dni-code-hint\"><code>ParameterView { Name = query, Description = Text to search for, DefaultValue = , Type = , IsRequired = True }</code></span></summary><div><table><thead><tr></tr></thead><tbody><tr><td>Name</td><td><div class=\"dni-plaintext\"><pre>query</pre></div></td></tr><tr><td>Description</td><td><div class=\"dni-plaintext\"><pre>Text to search for</pre></div></td></tr><tr><td>DefaultValue</td><td><div class=\"dni-plaintext\"><pre></pre></div></td></tr><tr><td>Type</td><td><div class=\"dni-plaintext\"><pre>&lt;null&gt;</pre></div></td></tr><tr><td>IsRequired</td><td><div class=\"dni-plaintext\"><pre>True</pre></div></td></tr></tbody></table></div></details></td></tr></tbody></table></td></tr></tbody></table></div></details></td></tr><tr><td>3</td><td><details class=\"dni-treeview\"><summary><span class=\"dni-code-hint\"><code>FunctionView { Name = TwitterSearchUrl, PluginName = url, Description = Return URL for Twitter search query., Parameters = Microsoft.SemanticKernel.ParameterView[] }</code></span></summary><div><table><thead><tr></tr></thead><tbody><tr><td>Name</td><td><div class=\"dni-plaintext\"><pre>TwitterSearchUrl</pre></div></td></tr><tr><td>PluginName</td><td><div class=\"dni-plaintext\"><pre>url</pre></div></td></tr><tr><td>Description</td><td><div class=\"dni-plaintext\"><pre>Return URL for Twitter search query.</pre></div></td></tr><tr><td>Parameters</td><td><table><thead><tr><th><i>index</i></th><th>value</th></tr></thead><tbody><tr><td>0</td><td><details class=\"dni-treeview\"><summary><span class=\"dni-code-hint\"><code>ParameterView { Name = query, Description = Text to search for, DefaultValue = , Type = , IsRequired = True }</code></span></summary><div><table><thead><tr></tr></thead><tbody><tr><td>Name</td><td><div class=\"dni-plaintext\"><pre>query</pre></div></td></tr><tr><td>Description</td><td><div class=\"dni-plaintext\"><pre>Text to search for</pre></div></td></tr><tr><td>DefaultValue</td><td><div class=\"dni-plaintext\"><pre></pre></div></td></tr><tr><td>Type</td><td><div class=\"dni-plaintext\"><pre>&lt;null&gt;</pre></div></td></tr><tr><td>IsRequired</td><td><div class=\"dni-plaintext\"><pre>True</pre></div></td></tr></tbody></table></div></details></td></tr></tbody></table></td></tr></tbody></table></div></details></td></tr><tr><td>4</td><td><details class=\"dni-treeview\"><summary><span class=\"dni-code-hint\"><code>FunctionView { Name = AmazonSearchUrl, PluginName = url, Description = Return URL for Amazon search query, Parameters = Microsoft.SemanticKernel.ParameterView[] }</code></span></summary><div><table><thead><tr></tr></thead><tbody><tr><td>Name</td><td><div class=\"dni-plaintext\"><pre>AmazonSearchUrl</pre></div></td></tr><tr><td>PluginName</td><td><div class=\"dni-plaintext\"><pre>url</pre></div></td></tr><tr><td>Description</td><td><div class=\"dni-plaintext\"><pre>Return URL for Amazon search query</pre></div></td></tr><tr><td>Parameters</td><td><table><thead><tr><th><i>index</i></th><th>value</th></tr></thead><tbody><tr><td>0</td><td><details class=\"dni-treeview\"><summary><span class=\"dni-code-hint\"><code>ParameterView { Name = query, Description = Text to search for, DefaultValue = , Type = , IsRequired = True }</code></span></summary><div><table><thead><tr></tr></thead><tbody><tr><td>Name</td><td><div class=\"dni-plaintext\"><pre>query</pre></div></td></tr><tr><td>Description</td><td><div class=\"dni-plaintext\"><pre>Text to search for</pre></div></td></tr><tr><td>DefaultValue</td><td><div class=\"dni-plaintext\"><pre></pre></div></td></tr><tr><td>Type</td><td><div class=\"dni-plaintext\"><pre>&lt;null&gt;</pre></div></td></tr><tr><td>IsRequired</td><td><div class=\"dni-plaintext\"><pre>True</pre></div></td></tr></tbody></table></div></details></td></tr></tbody></table></td></tr></tbody></table></div></details></td></tr><tr><td>5</td><td><details class=\"dni-treeview\"><summary><span class=\"dni-code-hint\"><code>FunctionView { Name = LinkedInSearchUrl, PluginName = url, Description = Return URL for LinkedIn search query., Parameters = Microsoft.SemanticKernel.ParameterView[] }</code></span></summary><div><table><thead><tr></tr></thead><tbody><tr><td>Name</td><td><div class=\"dni-plaintext\"><pre>LinkedInSearchUrl</pre></div></td></tr><tr><td>PluginName</td><td><div class=\"dni-plaintext\"><pre>url</pre></div></td></tr><tr><td>Description</td><td><div class=\"dni-plaintext\"><pre>Return URL for LinkedIn search query.</pre></div></td></tr><tr><td>Parameters</td><td><table><thead><tr><th><i>index</i></th><th>value</th></tr></thead><tbody><tr><td>0</td><td><details class=\"dni-treeview\"><summary><span class=\"dni-code-hint\"><code>ParameterView { Name = query, Description = Text to search for, DefaultValue = , Type = , IsRequired = True }</code></span></summary><div><table><thead><tr></tr></thead><tbody><tr><td>Name</td><td><div class=\"dni-plaintext\"><pre>query</pre></div></td></tr><tr><td>Description</td><td><div class=\"dni-plaintext\"><pre>Text to search for</pre></div></td></tr><tr><td>DefaultValue</td><td><div class=\"dni-plaintext\"><pre></pre></div></td></tr><tr><td>Type</td><td><div class=\"dni-plaintext\"><pre>&lt;null&gt;</pre></div></td></tr><tr><td>IsRequired</td><td><div class=\"dni-plaintext\"><pre>True</pre></div></td></tr></tbody></table></div></details></td></tr></tbody></table></td></tr></tbody></table></div></details></td></tr><tr><td>6</td><td><details class=\"dni-treeview\"><summary><span class=\"dni-code-hint\"><code>FunctionView { Name = BingNewsSearchUrl, PluginName = url, Description = Return URL for Bing News search query., Parameters = Microsoft.SemanticKernel.ParameterView[] }</code></span></summary><div><table><thead><tr></tr></thead><tbody><tr><td>Name</td><td><div class=\"dni-plaintext\"><pre>BingNewsSearchUrl</pre></div></td></tr><tr><td>PluginName</td><td><div class=\"dni-plaintext\"><pre>url</pre></div></td></tr><tr><td>Description</td><td><div class=\"dni-plaintext\"><pre>Return URL for Bing News search query.</pre></div></td></tr><tr><td>Parameters</td><td><table><thead><tr><th><i>index</i></th><th>value</th></tr></thead><tbody><tr><td>0</td><td><details class=\"dni-treeview\"><summary><span class=\"dni-code-hint\"><code>ParameterView { Name = query, Description = Text to search for, DefaultValue = , Type = , IsRequired = True }</code></span></summary><div><table><thead><tr></tr></thead><tbody><tr><td>Name</td><td><div class=\"dni-plaintext\"><pre>query</pre></div></td></tr><tr><td>Description</td><td><div class=\"dni-plaintext\"><pre>Text to search for</pre></div></td></tr><tr><td>DefaultValue</td><td><div class=\"dni-plaintext\"><pre></pre></div></td></tr><tr><td>Type</td><td><div class=\"dni-plaintext\"><pre>&lt;null&gt;</pre></div></td></tr><tr><td>IsRequired</td><td><div class=\"dni-plaintext\"><pre>True</pre></div></td></tr></tbody></table></div></details></td></tr></tbody></table></td></tr></tbody></table></div></details></td></tr><tr><td>7</td><td><details class=\"dni-treeview\"><summary><span class=\"dni-code-hint\"><code>FunctionView { Name = GitHubSearchUrl, PluginName = url, Description = Return URL for GitHub search query., Parameters = Microsoft.SemanticKernel.ParameterView[] }</code></span></summary><div><table><thead><tr></tr></thead><tbody><tr><td>Name</td><td><div class=\"dni-plaintext\"><pre>GitHubSearchUrl</pre></div></td></tr><tr><td>PluginName</td><td><div class=\"dni-plaintext\"><pre>url</pre></div></td></tr><tr><td>Description</td><td><div class=\"dni-plaintext\"><pre>Return URL for GitHub search query.</pre></div></td></tr><tr><td>Parameters</td><td><table><thead><tr><th><i>index</i></th><th>value</th></tr></thead><tbody><tr><td>0</td><td><details class=\"dni-treeview\"><summary><span class=\"dni-code-hint\"><code>ParameterView { Name = query, Description = Text to search for, DefaultValue = , Type = , IsRequired = True }</code></span></summary><div><table><thead><tr></tr></thead><tbody><tr><td>Name</td><td><div class=\"dni-plaintext\"><pre>query</pre></div></td></tr><tr><td>Description</td><td><div class=\"dni-plaintext\"><pre>Text to search for</pre></div></td></tr><tr><td>DefaultValue</td><td><div class=\"dni-plaintext\"><pre></pre></div></td></tr><tr><td>Type</td><td><div class=\"dni-plaintext\"><pre>&lt;null&gt;</pre></div></td></tr><tr><td>IsRequired</td><td><div class=\"dni-plaintext\"><pre>True</pre></div></td></tr></tbody></table></div></details></td></tr></tbody></table></td></tr></tbody></table></div></details></td></tr><tr><td>8</td><td><details class=\"dni-treeview\"><summary><span class=\"dni-code-hint\"><code>FunctionView { Name = BingImagesSearchUrl, PluginName = url, Description = Return URL for Bing Images search query., Parameters = Microsoft.SemanticKernel.ParameterView[] }</code></span></summary><div><table><thead><tr></tr></thead><tbody><tr><td>Name</td><td><div class=\"dni-plaintext\"><pre>BingImagesSearchUrl</pre></div></td></tr><tr><td>PluginName</td><td><div class=\"dni-plaintext\"><pre>url</pre></div></td></tr><tr><td>Description</td><td><div class=\"dni-plaintext\"><pre>Return URL for Bing Images search query.</pre></div></td></tr><tr><td>Parameters</td><td><table><thead><tr><th><i>index</i></th><th>value</th></tr></thead><tbody><tr><td>0</td><td><details class=\"dni-treeview\"><summary><span class=\"dni-code-hint\"><code>ParameterView { Name = query, Description = Text to search for, DefaultValue = , Type = , IsRequired = True }</code></span></summary><div><table><thead><tr></tr></thead><tbody><tr><td>Name</td><td><div class=\"dni-plaintext\"><pre>query</pre></div></td></tr><tr><td>Description</td><td><div class=\"dni-plaintext\"><pre>Text to search for</pre></div></td></tr><tr><td>DefaultValue</td><td><div class=\"dni-plaintext\"><pre></pre></div></td></tr><tr><td>Type</td><td><div class=\"dni-plaintext\"><pre>&lt;null&gt;</pre></div></td></tr><tr><td>IsRequired</td><td><div class=\"dni-plaintext\"><pre>True</pre></div></td></tr></tbody></table></div></details></td></tr></tbody></table></td></tr></tbody></table></div></details></td></tr><tr><td>9</td><td><details class=\"dni-treeview\"><summary><span class=\"dni-code-hint\"><code>FunctionView { Name = BingMapsSearchUrl, PluginName = url, Description = Return URL for Bing Maps search query., Parameters = Microsoft.SemanticKernel.ParameterView[] }</code></span></summary><div><table><thead><tr></tr></thead><tbody><tr><td>Name</td><td><div class=\"dni-plaintext\"><pre>BingMapsSearchUrl</pre></div></td></tr><tr><td>PluginName</td><td><div class=\"dni-plaintext\"><pre>url</pre></div></td></tr><tr><td>Description</td><td><div class=\"dni-plaintext\"><pre>Return URL for Bing Maps search query.</pre></div></td></tr><tr><td>Parameters</td><td><table><thead><tr><th><i>index</i></th><th>value</th></tr></thead><tbody><tr><td>0</td><td><details class=\"dni-treeview\"><summary><span class=\"dni-code-hint\"><code>ParameterView { Name = query, Description = Text to search for, DefaultValue = , Type = , IsRequired = True }</code></span></summary><div><table><thead><tr></tr></thead><tbody><tr><td>Name</td><td><div class=\"dni-plaintext\"><pre>query</pre></div></td></tr><tr><td>Description</td><td><div class=\"dni-plaintext\"><pre>Text to search for</pre></div></td></tr><tr><td>DefaultValue</td><td><div class=\"dni-plaintext\"><pre></pre></div></td></tr><tr><td>Type</td><td><div class=\"dni-plaintext\"><pre>&lt;null&gt;</pre></div></td></tr><tr><td>IsRequired</td><td><div class=\"dni-plaintext\"><pre>True</pre></div></td></tr></tbody></table></div></details></td></tr></tbody></table></td></tr></tbody></table></div></details></td></tr><tr><td>10</td><td><details class=\"dni-treeview\"><summary><span class=\"dni-code-hint\"><code>FunctionView { Name = FacebookSearchUrl, PluginName = url, Description = Return URL for Facebook search query., Parameters = Microsoft.SemanticKernel.ParameterView[] }</code></span></summary><div><table><thead><tr></tr></thead><tbody><tr><td>Name</td><td><div class=\"dni-plaintext\"><pre>FacebookSearchUrl</pre></div></td></tr><tr><td>PluginName</td><td><div class=\"dni-plaintext\"><pre>url</pre></div></td></tr><tr><td>Description</td><td><div class=\"dni-plaintext\"><pre>Return URL for Facebook search query.</pre></div></td></tr><tr><td>Parameters</td><td><table><thead><tr><th><i>index</i></th><th>value</th></tr></thead><tbody><tr><td>0</td><td><details class=\"dni-treeview\"><summary><span class=\"dni-code-hint\"><code>ParameterView { Name = query, Description = Text to search for, DefaultValue = , Type = , IsRequired = True }</code></span></summary><div><table><thead><tr></tr></thead><tbody><tr><td>Name</td><td><div class=\"dni-plaintext\"><pre>query</pre></div></td></tr><tr><td>Description</td><td><div class=\"dni-plaintext\"><pre>Text to search for</pre></div></td></tr><tr><td>DefaultValue</td><td><div class=\"dni-plaintext\"><pre></pre></div></td></tr><tr><td>Type</td><td><div class=\"dni-plaintext\"><pre>&lt;null&gt;</pre></div></td></tr><tr><td>IsRequired</td><td><div class=\"dni-plaintext\"><pre>True</pre></div></td></tr></tbody></table></div></details></td></tr></tbody></table></td></tr></tbody></table></div></details></td></tr><tr><td>11</td><td><details class=\"dni-treeview\"><summary><span class=\"dni-code-hint\"><code>FunctionView { Name = BingShoppingSearchUrl, PluginName = url, Description = Return URL for Bing Shopping search query., Parameters = Microsoft.SemanticKernel.ParameterView[] }</code></span></summary><div><table><thead><tr></tr></thead><tbody><tr><td>Name</td><td><div class=\"dni-plaintext\"><pre>BingShoppingSearchUrl</pre></div></td></tr><tr><td>PluginName</td><td><div class=\"dni-plaintext\"><pre>url</pre></div></td></tr><tr><td>Description</td><td><div class=\"dni-plaintext\"><pre>Return URL for Bing Shopping search query.</pre></div></td></tr><tr><td>Parameters</td><td><table><thead><tr><th><i>index</i></th><th>value</th></tr></thead><tbody><tr><td>0</td><td><details class=\"dni-treeview\"><summary><span class=\"dni-code-hint\"><code>ParameterView { Name = query, Description = Text to search for, DefaultValue = , Type = , IsRequired = True }</code></span></summary><div><table><thead><tr></tr></thead><tbody><tr><td>Name</td><td><div class=\"dni-plaintext\"><pre>query</pre></div></td></tr><tr><td>Description</td><td><div class=\"dni-plaintext\"><pre>Text to search for</pre></div></td></tr><tr><td>DefaultValue</td><td><div class=\"dni-plaintext\"><pre></pre></div></td></tr><tr><td>Type</td><td><div class=\"dni-plaintext\"><pre>&lt;null&gt;</pre></div></td></tr><tr><td>IsRequired</td><td><div class=\"dni-plaintext\"><pre>True</pre></div></td></tr></tbody></table></div></details></td></tr></tbody></table></td></tr></tbody></table></div></details></td></tr><tr><td>12</td><td><details class=\"dni-treeview\"><summary><span class=\"dni-code-hint\"><code>FunctionView { Name = BingTravelSearchUrl, PluginName = url, Description = Return URL for Bing Travel search query., Parameters = Microsoft.SemanticKernel.ParameterView[] }</code></span></summary><div><table><thead><tr></tr></thead><tbody><tr><td>Name</td><td><div class=\"dni-plaintext\"><pre>BingTravelSearchUrl</pre></div></td></tr><tr><td>PluginName</td><td><div class=\"dni-plaintext\"><pre>url</pre></div></td></tr><tr><td>Description</td><td><div class=\"dni-plaintext\"><pre>Return URL for Bing Travel search query.</pre></div></td></tr><tr><td>Parameters</td><td><table><thead><tr><th><i>index</i></th><th>value</th></tr></thead><tbody><tr><td>0</td><td><details class=\"dni-treeview\"><summary><span class=\"dni-code-hint\"><code>ParameterView { Name = query, Description = Text to search for, DefaultValue = , Type = , IsRequired = True }</code></span></summary><div><table><thead><tr></tr></thead><tbody><tr><td>Name</td><td><div class=\"dni-plaintext\"><pre>query</pre></div></td></tr><tr><td>Description</td><td><div class=\"dni-plaintext\"><pre>Text to search for</pre></div></td></tr><tr><td>DefaultValue</td><td><div class=\"dni-plaintext\"><pre></pre></div></td></tr><tr><td>Type</td><td><div class=\"dni-plaintext\"><pre>&lt;null&gt;</pre></div></td></tr><tr><td>IsRequired</td><td><div class=\"dni-plaintext\"><pre>True</pre></div></td></tr></tbody></table></div></details></td></tr></tbody></table></td></tr></tbody></table></div></details></td></tr><tr><td>13</td><td><details class=\"dni-treeview\"><summary><span class=\"dni-code-hint\"><code>FunctionView { Name = WikipediaSearchUrl, PluginName = url, Description = Return URL for Wikipedia search query., Parameters = Microsoft.SemanticKernel.ParameterView[] }</code></span></summary><div><table><thead><tr></tr></thead><tbody><tr><td>Name</td><td><div class=\"dni-plaintext\"><pre>WikipediaSearchUrl</pre></div></td></tr><tr><td>PluginName</td><td><div class=\"dni-plaintext\"><pre>url</pre></div></td></tr><tr><td>Description</td><td><div class=\"dni-plaintext\"><pre>Return URL for Wikipedia search query.</pre></div></td></tr><tr><td>Parameters</td><td><table><thead><tr><th><i>index</i></th><th>value</th></tr></thead><tbody><tr><td>0</td><td><details class=\"dni-treeview\"><summary><span class=\"dni-code-hint\"><code>ParameterView { Name = query, Description = Text to search for, DefaultValue = , Type = , IsRequired = True }</code></span></summary><div><table><thead><tr></tr></thead><tbody><tr><td>Name</td><td><div class=\"dni-plaintext\"><pre>query</pre></div></td></tr><tr><td>Description</td><td><div class=\"dni-plaintext\"><pre>Text to search for</pre></div></td></tr><tr><td>DefaultValue</td><td><div class=\"dni-plaintext\"><pre></pre></div></td></tr><tr><td>Type</td><td><div class=\"dni-plaintext\"><pre>&lt;null&gt;</pre></div></td></tr><tr><td>IsRequired</td><td><div class=\"dni-plaintext\"><pre>True</pre></div></td></tr></tbody></table></div></details></td></tr></tbody></table></td></tr></tbody></table></div></details></td></tr><tr><td>14</td><td><details class=\"dni-treeview\"><summary><span class=\"dni-code-hint\"><code>FunctionView { Name = Search, PluginName = bing, Description = Perform a web search., Parameters = Microsoft.SemanticKernel.ParameterView[] }</code></span></summary><div><table><thead><tr></tr></thead><tbody><tr><td>Name</td><td><div class=\"dni-plaintext\"><pre>Search</pre></div></td></tr><tr><td>PluginName</td><td><div class=\"dni-plaintext\"><pre>bing</pre></div></td></tr><tr><td>Description</td><td><div class=\"dni-plaintext\"><pre>Perform a web search.</pre></div></td></tr><tr><td>Parameters</td><td><table><thead><tr><th><i>index</i></th><th>value</th></tr></thead><tbody><tr><td>0</td><td><details class=\"dni-treeview\"><summary><span class=\"dni-code-hint\"><code>ParameterView { Name = query, Description = Search query, DefaultValue = , Type = , IsRequired = True }</code></span></summary><div><table><thead><tr></tr></thead><tbody><tr><td>Name</td><td><div class=\"dni-plaintext\"><pre>query</pre></div></td></tr><tr><td>Description</td><td><div class=\"dni-plaintext\"><pre>Search query</pre></div></td></tr><tr><td>DefaultValue</td><td><div class=\"dni-plaintext\"><pre></pre></div></td></tr><tr><td>Type</td><td><div class=\"dni-plaintext\"><pre>&lt;null&gt;</pre></div></td></tr><tr><td>IsRequired</td><td><div class=\"dni-plaintext\"><pre>True</pre></div></td></tr></tbody></table></div></details></td></tr><tr><td>1</td><td><details class=\"dni-treeview\"><summary><span class=\"dni-code-hint\"><code>ParameterView { Name = count, Description = Number of results, DefaultValue = 10, Type = , IsRequired = False }</code></span></summary><div><table><thead><tr></tr></thead><tbody><tr><td>Name</td><td><div class=\"dni-plaintext\"><pre>count</pre></div></td></tr><tr><td>Description</td><td><div class=\"dni-plaintext\"><pre>Number of results</pre></div></td></tr><tr><td>DefaultValue</td><td><div class=\"dni-plaintext\"><pre>10</pre></div></td></tr><tr><td>Type</td><td><div class=\"dni-plaintext\"><pre>&lt;null&gt;</pre></div></td></tr><tr><td>IsRequired</td><td><div class=\"dni-plaintext\"><pre>False</pre></div></td></tr></tbody></table></div></details></td></tr><tr><td>2</td><td><details class=\"dni-treeview\"><summary><span class=\"dni-code-hint\"><code>ParameterView { Name = offset, Description = Number of results to skip, DefaultValue = 0, Type = , IsRequired = False }</code></span></summary><div><table><thead><tr></tr></thead><tbody><tr><td>Name</td><td><div class=\"dni-plaintext\"><pre>offset</pre></div></td></tr><tr><td>Description</td><td><div class=\"dni-plaintext\"><pre>Number of results to skip</pre></div></td></tr><tr><td>DefaultValue</td><td><div class=\"dni-plaintext\"><pre>0</pre></div></td></tr><tr><td>Type</td><td><div class=\"dni-plaintext\"><pre>&lt;null&gt;</pre></div></td></tr><tr><td>IsRequired</td><td><div class=\"dni-plaintext\"><pre>False</pre></div></td></tr></tbody></table></div></details></td></tr></tbody></table></td></tr></tbody></table></div></details></td></tr><tr><td>15</td><td><details class=\"dni-treeview\"><summary><span class=\"dni-code-hint\"><code>FunctionView { Name = Seconds, PluginName = wait, Description = Wait a given amount of seconds, Parameters = Microsoft.SemanticKernel.ParameterView[] }</code></span></summary><div><table><thead><tr></tr></thead><tbody><tr><td>Name</td><td><div class=\"dni-plaintext\"><pre>Seconds</pre></div></td></tr><tr><td>PluginName</td><td><div class=\"dni-plaintext\"><pre>wait</pre></div></td></tr><tr><td>Description</td><td><div class=\"dni-plaintext\"><pre>Wait a given amount of seconds</pre></div></td></tr><tr><td>Parameters</td><td><table><thead><tr><th><i>index</i></th><th>value</th></tr></thead><tbody><tr><td>0</td><td><details class=\"dni-treeview\"><summary><span class=\"dni-code-hint\"><code>ParameterView { Name = seconds, Description = The number of seconds to wait, DefaultValue = , Type = , IsRequired = True }</code></span></summary><div><table><thead><tr></tr></thead><tbody><tr><td>Name</td><td><div class=\"dni-plaintext\"><pre>seconds</pre></div></td></tr><tr><td>Description</td><td><div class=\"dni-plaintext\"><pre>The number of seconds to wait</pre></div></td></tr><tr><td>DefaultValue</td><td><div class=\"dni-plaintext\"><pre></pre></div></td></tr><tr><td>Type</td><td><div class=\"dni-plaintext\"><pre>&lt;null&gt;</pre></div></td></tr><tr><td>IsRequired</td><td><div class=\"dni-plaintext\"><pre>True</pre></div></td></tr></tbody></table></div></details></td></tr></tbody></table></td></tr></tbody></table></div></details></td></tr><tr><td>16</td><td><details class=\"dni-treeview\"><summary><span class=\"dni-code-hint\"><code>FunctionView { Name = Year, PluginName = time, Description = Get the current year, Parameters = Microsoft.SemanticKernel.ParameterView[] }</code></span></summary><div><table><thead><tr></tr></thead><tbody><tr><td>Name</td><td><div class=\"dni-plaintext\"><pre>Year</pre></div></td></tr><tr><td>PluginName</td><td><div class=\"dni-plaintext\"><pre>time</pre></div></td></tr><tr><td>Description</td><td><div class=\"dni-plaintext\"><pre>Get the current year</pre></div></td></tr><tr><td>Parameters</td><td><i>(empty)</i></td></tr></tbody></table></div></details></td></tr><tr><td>17</td><td><details class=\"dni-treeview\"><summary><span class=\"dni-code-hint\"><code>FunctionView { Name = Today, PluginName = time, Description = Get the current date, Parameters = Microsoft.SemanticKernel.ParameterView[] }</code></span></summary><div><table><thead><tr></tr></thead><tbody><tr><td>Name</td><td><div class=\"dni-plaintext\"><pre>Today</pre></div></td></tr><tr><td>PluginName</td><td><div class=\"dni-plaintext\"><pre>time</pre></div></td></tr><tr><td>Description</td><td><div class=\"dni-plaintext\"><pre>Get the current date</pre></div></td></tr><tr><td>Parameters</td><td><i>(empty)</i></td></tr></tbody></table></div></details></td></tr><tr><td>18</td><td><details class=\"dni-treeview\"><summary><span class=\"dni-code-hint\"><code>FunctionView { Name = Time, PluginName = time, Description = Get the current time, Parameters = Microsoft.SemanticKernel.ParameterView[] }</code></span></summary><div><table><thead><tr></tr></thead><tbody><tr><td>Name</td><td><div class=\"dni-plaintext\"><pre>Time</pre></div></td></tr><tr><td>PluginName</td><td><div class=\"dni-plaintext\"><pre>time</pre></div></td></tr><tr><td>Description</td><td><div class=\"dni-plaintext\"><pre>Get the current time</pre></div></td></tr><tr><td>Parameters</td><td><i>(empty)</i></td></tr></tbody></table></div></details></td></tr><tr><td>19</td><td><details class=\"dni-treeview\"><summary><span class=\"dni-code-hint\"><code>FunctionView { Name = UtcNow, PluginName = time, Description = Get the current UTC date and time, Parameters = Microsoft.SemanticKernel.ParameterView[] }</code></span></summary><div><table><thead><tr></tr></thead><tbody><tr><td>Name</td><td><div class=\"dni-plaintext\"><pre>UtcNow</pre></div></td></tr><tr><td>PluginName</td><td><div class=\"dni-plaintext\"><pre>time</pre></div></td></tr><tr><td>Description</td><td><div class=\"dni-plaintext\"><pre>Get the current UTC date and time</pre></div></td></tr><tr><td>Parameters</td><td><i>(empty)</i></td></tr></tbody></table></div></details></td></tr><tr><td colspan=\"2\"><i>(35 more)</i></td></tr></tbody></table><style>\r\n",
       ".dni-code-hint {\r\n",
       "    font-style: italic;\r\n",
       "    overflow: hidden;\r\n",
       "    white-space: nowrap;\r\n",
       "}\r\n",
       ".dni-treeview {\r\n",
       "    white-space: nowrap;\r\n",
       "}\r\n",
       ".dni-treeview td {\r\n",
       "    vertical-align: top;\r\n",
       "    text-align: start;\r\n",
       "}\r\n",
       "details.dni-treeview {\r\n",
       "    padding-left: 1em;\r\n",
       "}\r\n",
       "table td {\r\n",
       "    text-align: start;\r\n",
       "}\r\n",
       "table tr { \r\n",
       "    vertical-align: top; \r\n",
       "    margin: 0em 0px;\r\n",
       "}\r\n",
       "table tr td pre \r\n",
       "{ \r\n",
       "    vertical-align: top !important; \r\n",
       "    margin: 0em 0px !important;\r\n",
       "} \r\n",
       "table th {\r\n",
       "    text-align: start;\r\n",
       "}\r\n",
       "</style>"
      ]
     },
     "metadata": {},
     "output_type": "display_data"
    }
   ],
   "source": [
    "kernel.Functions.GetFunctionViews().Display();"
   ]
  },
  {
   "cell_type": "markdown",
   "metadata": {},
   "source": [
    "## Step 3: Test Completions by creating a simple inline function"
   ]
  },
  {
   "cell_type": "code",
   "execution_count": 7,
   "metadata": {
    "dotnet_interactive": {
     "language": "csharp"
    },
    "polyglot_notebook": {
     "kernelName": "csharp"
    },
    "vscode": {
     "languageId": "polyglot-notebook"
    }
   },
   "outputs": [
    {
     "name": "stdout",
     "output_type": "stream",
     "text": [
      "The sky appears blue because of a process called Rayleigh scattering. As sunlight reaches Earth's\n",
      "atmosphere, it is made up of different colors, which travel as waves of different lengths. Blue and\n",
      "violet light have the shortest wavelengths and are scattered in all directions by the oxygen and\n",
      "nitrogen molecules in Earth's atmosphere. This scattered blue and violet light reaches our eyes from\n",
      "all directions, making the sky appear blue.\n",
      "\n",
      "You might wonder why we don't see a violet sky, given\n",
      "that violet light is scattered more than\n",
      "\n",
      "The color of the ocean can vary and is influenced by several factors. The green color in the ocean\n",
      "is usually due to the presence of large amounts of algae or phytoplankton, tiny plant-like organisms\n",
      "that live in the water and can photosynthesize. These organisms contain chlorophyll, a green pigment\n",
      "used in photosynthesis, which gives the water a greenish hue when present in large quantities.\n",
      "Additionally, the color of the ocean can be affected by the amount and angle of sunlight, the\n",
      "\n"
     ]
    }
   ],
   "source": [
    "using Microsoft.SemanticKernel.Connectors.AI.OpenAI;\n",
    "\n",
    "// 1. define the function called \"ask\"\n",
    "var askFunction = kernel.CreateSemanticFunction(\n",
    "    promptTemplate: \"{{$input}}\", \n",
    "    requestSettings: new OpenAIRequestSettings() { \n",
    "        MaxTokens = 100, \n",
    "        Temperature = 0.4, \n",
    "        TopP = 1,\n",
    "        // Here I have specified the service id. \n",
    "        // Comment this out if you would like to use the default service id.\n",
    "        // ServiceId = \"oai-gpt-4-0613\" \n",
    "    },\n",
    "    functionName: \"ask\");\n",
    "\n",
    "// 2. call the function directly using the function object\n",
    "var directResult = await kernel.RunAsync(\"Why is the sky blue?\", askFunction);\n",
    "Utils.Print(directResult.GetValue<string>());\n",
    "\n",
    "// ALTERNATIVELY\n",
    "// 2. call the function by name using the kernel.\n",
    "var nameResult = await kernel.Functions.GetFunction(\"ask\").InvokeAsync(\"why is the ocean green?\", kernel);\n",
    "Utils.Print(nameResult.GetValue<string>());"
   ]
  },
  {
   "cell_type": "markdown",
   "metadata": {},
   "source": [
    "## Step 4: Test Core Plugins"
   ]
  },
  {
   "cell_type": "markdown",
   "metadata": {},
   "source": [
    "4.1: Text plugin"
   ]
  },
  {
   "cell_type": "code",
   "execution_count": 8,
   "metadata": {
    "dotnet_interactive": {
     "language": "csharp"
    },
    "polyglot_notebook": {
     "kernelName": "csharp"
    },
    "vscode": {
     "languageId": "polyglot-notebook"
    }
   },
   "outputs": [
    {
     "data": {
      "text/plain": [
       "hello world"
      ]
     },
     "metadata": {},
     "output_type": "display_data"
    },
    {
     "data": {
      "text/plain": [
       "  hello world"
      ]
     },
     "metadata": {},
     "output_type": "display_data"
    }
   ],
   "source": [
    "var r = await kernel.Functions.GetFunction(\"text\", \"trim\").InvokeAsync(\"  hello world  \", kernel);\n",
    "r.GetValue<string>().Display();\n",
    "\n",
    "r = await kernel.Functions.GetFunction(\"text\", \"trimEnd\").InvokeAsync(\"  hello world  \", kernel);\n",
    "r.GetValue<string>().Display();"
   ]
  },
  {
   "cell_type": "markdown",
   "metadata": {},
   "source": [
    "4.1: This is a continuation of the previous step. Here we see how to \"chain\" plugins together. We call the \"ask\" plugin & pass the output to the \"text\" plugin where we can see the output in uppercase."
   ]
  },
  {
   "cell_type": "code",
   "execution_count": 9,
   "metadata": {
    "dotnet_interactive": {
     "language": "csharp"
    },
    "polyglot_notebook": {
     "kernelName": "csharp"
    },
    "vscode": {
     "languageId": "polyglot-notebook"
    }
   },
   "outputs": [
    {
     "name": "stdout",
     "output_type": "stream",
     "text": [
      "WHY DON'T SCIENTISTS TRUST ATOMS? BECAUSE THEY MAKE UP EVERYTHING!\n",
      "\n"
     ]
    }
   ],
   "source": [
    "var r = await kernel.RunAsync(\n",
    "    \"Tell me 1 sentence joke.\",\n",
    "    kernel.Functions.GetFunction(\"ask\"),\n",
    "    kernel.Functions.GetFunction(\"text\", \"uppercase\")\n",
    ");\n",
    "Utils.Print(r.GetValue<string>());"
   ]
  },
  {
   "cell_type": "markdown",
   "metadata": {},
   "source": [
    "## Step 5: Test Web Plugins"
   ]
  },
  {
   "cell_type": "code",
   "execution_count": 12,
   "metadata": {
    "dotnet_interactive": {
     "language": "csharp"
    },
    "polyglot_notebook": {
     "kernelName": "csharp"
    },
    "vscode": {
     "languageId": "polyglot-notebook"
    }
   },
   "outputs": [
    {
     "name": "stdout",
     "output_type": "stream",
     "text": [
      "The annual inflation rate in the United States was 3.7% for the 12 months ending in September,\n",
      "according to data from the U.S. Labor Department. This rate was consistent with the previous period.\n",
      "The Federal Reserve has left interest rates unchanged, marking the second consecutive meeting where\n",
      "rates were held steady. This follows a series of 11 rate hikes, including four in 2023. Despite the\n",
      "steady rates, the Federal Reserve has signaled that future rate hikes are possible to curb\n",
      "persistent inflation. The annual inflation rate has risen from 3.2% in 2011 to 8.3% in 2022,\n",
      "indicating a weakening in the purchasing power of the U.S. dollar. The inflation rate for core goods\n",
      "and services was below the Federal Reserve's target prior to the pandemic, averaging 1.7% annually\n",
      "between 2016 and 2019, but jumped to 5.2% in 2021 and 4.9% in 2022. The Consumer Price Index (CPI),\n",
      "a measure of the average change over time in prices paid by urban consumers for a market basket of\n",
      "consumer goods and services, is used to track these changes.\n",
      "\n"
     ]
    }
   ],
   "source": [
    "var webQuery = \"What is the inflation rate in the US in November 2023?\";\n",
    "\n",
    "var r = await kernel.RunAsync(\n",
    "    webQuery,\n",
    "    kernel.Functions.GetFunction(\"bing\", \"search\"),\n",
    "    kernel.Functions.GetFunction(\"conversation\", \"SummarizeConversation\")\n",
    ");\n",
    "Utils.Print(r.GetValue<string>());"
   ]
  },
  {
   "cell_type": "markdown",
   "metadata": {},
   "source": [
    "## Step 6: Test Memories"
   ]
  },
  {
   "cell_type": "code",
   "execution_count": 13,
   "metadata": {
    "dotnet_interactive": {
     "language": "csharp"
    },
    "polyglot_notebook": {
     "kernelName": "csharp"
    },
    "vscode": {
     "languageId": "polyglot-notebook"
    }
   },
   "outputs": [
    {
     "name": "stdout",
     "output_type": "stream",
     "text": [
      "Has tentacles? - Elephant\n",
      "\n"
     ]
    }
   ],
   "source": [
    "var db = \"random-animals\";\n",
    "\n",
    "await kernel.Memory.SaveInformationAsync(\n",
    "    db, id: \"1\", text: \"Dog\");\n",
    "await kernel.Memory.SaveInformationAsync(\n",
    "    db, id: \"2\", text: \"Elephant\");\n",
    "await kernel.Memory.SaveInformationAsync(\n",
    "    db, id: \"3\", text: \"Octopus\");\n",
    "\n",
    "var memorySearch = \"Has tentacles?\";\n",
    "await foreach (var item in kernel.Memory.SearchAsync(\n",
    "    collection: db, \n",
    "    query: memorySearch, \n",
    "    limit: 1, \n",
    "    minRelevanceScore: 0.5))\n",
    "{\n",
    "    Utils.Print($\"{memorySearch} - {item.Metadata.Text}\");\n",
    "}\n",
    "\n",
    "await kernel.Memory.RemoveAsync(db,\"1\");\n",
    "await kernel.Memory.RemoveAsync(db,\"2\");\n",
    "await kernel.Memory.RemoveAsync(db,\"3\");"
   ]
  },
  {
   "cell_type": "markdown",
   "metadata": {},
   "source": [
    "Alternatively, chunk and store a whole book!"
   ]
  },
  {
   "cell_type": "code",
   "execution_count": 15,
   "metadata": {
    "dotnet_interactive": {
     "language": "csharp"
    },
    "polyglot_notebook": {
     "kernelName": "csharp"
    },
    "vscode": {
     "languageId": "polyglot-notebook"
    }
   },
   "outputs": [
    {
     "name": "stdout",
     "output_type": "stream",
     "text": [
      "Chunks: 46\n",
      "Chunk 0 of 46 saved to memory collection intelligent-investor\n",
      "Chunk 1 of 46 saved to memory collection intelligent-investor\n",
      "Chunk 2 of 46 saved to memory collection intelligent-investor\n",
      "Chunk 3 of 46 saved to memory collection intelligent-investor\n",
      "Chunk 4 of 46 saved to memory collection intelligent-investor\n",
      "Chunk 5 of 46 saved to memory collection intelligent-investor\n",
      "Chunk 6 of 46 saved to memory collection intelligent-investor\n",
      "Chunk 7 of 46 saved to memory collection intelligent-investor\n",
      "Chunk 8 of 46 saved to memory collection intelligent-investor\n",
      "Chunk 9 of 46 saved to memory collection intelligent-investor\n",
      "Chunk 10 of 46 saved to memory collection intelligent-investor\n",
      "Chunk 11 of 46 saved to memory collection intelligent-investor\n",
      "Chunk 12 of 46 saved to memory collection intelligent-investor\n",
      "Chunk 13 of 46 saved to memory collection intelligent-investor\n",
      "Chunk 14 of 46 saved to memory collection intelligent-investor\n",
      "Chunk 15 of 46 saved to memory collection intelligent-investor\n",
      "Chunk 16 of 46 saved to memory collection intelligent-investor\n",
      "Chunk 17 of 46 saved to memory collection intelligent-investor\n",
      "Chunk 18 of 46 saved to memory collection intelligent-investor\n",
      "Chunk 19 of 46 saved to memory collection intelligent-investor\n",
      "Chunk 20 of 46 saved to memory collection intelligent-investor\n",
      "Chunk 21 of 46 saved to memory collection intelligent-investor\n",
      "Chunk 22 of 46 saved to memory collection intelligent-investor\n",
      "Chunk 23 of 46 saved to memory collection intelligent-investor\n",
      "Chunk 24 of 46 saved to memory collection intelligent-investor\n",
      "Chunk 25 of 46 saved to memory collection intelligent-investor\n",
      "Chunk 26 of 46 saved to memory collection intelligent-investor\n",
      "Chunk 27 of 46 saved to memory collection intelligent-investor\n",
      "Chunk 28 of 46 saved to memory collection intelligent-investor\n",
      "Chunk 29 of 46 saved to memory collection intelligent-investor\n",
      "Chunk 30 of 46 saved to memory collection intelligent-investor\n",
      "Chunk 31 of 46 saved to memory collection intelligent-investor\n",
      "Chunk 32 of 46 saved to memory collection intelligent-investor\n",
      "Chunk 33 of 46 saved to memory collection intelligent-investor\n",
      "Chunk 34 of 46 saved to memory collection intelligent-investor\n",
      "Chunk 35 of 46 saved to memory collection intelligent-investor\n",
      "Chunk 36 of 46 saved to memory collection intelligent-investor\n",
      "Chunk 37 of 46 saved to memory collection intelligent-investor\n",
      "Chunk 38 of 46 saved to memory collection intelligent-investor\n",
      "Chunk 39 of 46 saved to memory collection intelligent-investor\n",
      "Chunk 40 of 46 saved to memory collection intelligent-investor\n",
      "Chunk 41 of 46 saved to memory collection intelligent-investor\n",
      "Chunk 42 of 46 saved to memory collection intelligent-investor\n",
      "Chunk 43 of 46 saved to memory collection intelligent-investor\n",
      "Chunk 44 of 46 saved to memory collection intelligent-investor\n",
      "Chunk 45 of 46 saved to memory collection intelligent-investor\n"
     ]
    }
   ],
   "source": [
    "// Read file & convert it into smaller chunks\n",
    "var chunks = await KernelHelper.GetChunksAsync(\"../../../data/intelligent-investor.txt\");\n",
    "Console.WriteLine($\"Chunks: {chunks.Count()}\");\n",
    "\n",
    "var db = \"intelligent-investor\";\n",
    "// Save chunks into memory\n",
    "for (var i = 0; i < chunks.Count(); i++)\n",
    "{\n",
    "    var chunk = chunks[i];        \n",
    "    await kernel.Memory.SaveInformationAsync(\n",
    "        collection: db,                     // Collection where to save the information.\n",
    "        text: chunk,                        // Information to save.\n",
    "        id: $\"{db}-{i}\",                    // Unique identifier.\n",
    "        description: $\"d:{db} c:{i}\",       // Optional description.\n",
    "        additionalMetadata: i.ToString()    // Optional string for saving custom metadata.\n",
    "    );\n",
    "\n",
    "    Console.WriteLine($\"Chunk {i} of {chunks.Count} saved to memory collection {db}\");\n",
    "}"
   ]
  }
 ],
 "metadata": {
  "language_info": {
   "name": "python"
  }
 },
 "nbformat": 4,
 "nbformat_minor": 2
}
